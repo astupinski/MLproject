{
 "cells": [
  {
   "cell_type": "markdown",
   "metadata": {},
   "source": [
    "# Begin By Importing Necescary Packages"
   ]
  },
  {
   "cell_type": "code",
   "execution_count": 100,
   "metadata": {},
   "outputs": [],
   "source": [
    "%matplotlib inline\n",
    "import matplotlib.pyplot as plt\n",
    "import numpy as np\n",
    "import pandas as pd\n",
    "import re\n",
    "from sklearn.model_selection import train_test_split\n",
    "from sklearn.svm import SVR\n",
    "from sklearn.ensemble import RandomForestRegressor\n",
    "from sklearn.preprocessing import LabelEncoder\n",
    "from sklearn.preprocessing import MinMaxScaler\n",
    "from sklearn.metrics import mean_squared_error\n",
    "from sklearn.metrics import mean_absolute_error\n",
    "from sklearn.model_selection import cross_val_score\n",
    "from sklearn.model_selection import RandomizedSearchCV\n",
    "from scipy.stats import uniform"
   ]
  },
  {
   "cell_type": "markdown",
   "metadata": {},
   "source": [
    "# Load Datasets and Connect to get Input for SVR"
   ]
  },
  {
   "cell_type": "code",
   "execution_count": 101,
   "metadata": {},
   "outputs": [
    {
     "name": "stderr",
     "output_type": "stream",
     "text": [
      "/home/erik7brown/.local/lib/python3.6/site-packages/ipykernel_launcher.py:2: SettingWithCopyWarning: \n",
      "A value is trying to be set on a copy of a slice from a DataFrame\n",
      "\n",
      "See the caveats in the documentation: http://pandas.pydata.org/pandas-docs/stable/user_guide/indexing.html#returning-a-view-versus-a-copy\n",
      "  \n",
      "/home/erik7brown/.local/lib/python3.6/site-packages/ipykernel_launcher.py:3: SettingWithCopyWarning: \n",
      "A value is trying to be set on a copy of a slice from a DataFrame\n",
      "\n",
      "See the caveats in the documentation: http://pandas.pydata.org/pandas-docs/stable/user_guide/indexing.html#returning-a-view-versus-a-copy\n",
      "  This is separate from the ipykernel package so we can avoid doing imports until\n"
     ]
    },
    {
     "data": {
      "text/html": [
       "<div>\n",
       "<style scoped>\n",
       "    .dataframe tbody tr th:only-of-type {\n",
       "        vertical-align: middle;\n",
       "    }\n",
       "\n",
       "    .dataframe tbody tr th {\n",
       "        vertical-align: top;\n",
       "    }\n",
       "\n",
       "    .dataframe thead th {\n",
       "        text-align: right;\n",
       "    }\n",
       "</style>\n",
       "<table border=\"1\" class=\"dataframe\">\n",
       "  <thead>\n",
       "    <tr style=\"text-align: right;\">\n",
       "      <th></th>\n",
       "      <th>Race</th>\n",
       "      <th>Num_Arrests</th>\n",
       "      <th>State</th>\n",
       "      <th>CensusTract</th>\n",
       "      <th>County</th>\n",
       "      <th>Borough</th>\n",
       "      <th>TotalPop</th>\n",
       "      <th>Men</th>\n",
       "      <th>Women</th>\n",
       "      <th>Hispanic</th>\n",
       "      <th>...</th>\n",
       "      <th>Walk</th>\n",
       "      <th>OtherTransp</th>\n",
       "      <th>WorkAtHome</th>\n",
       "      <th>MeanCommute</th>\n",
       "      <th>Employed</th>\n",
       "      <th>PrivateWork</th>\n",
       "      <th>PublicWork</th>\n",
       "      <th>SelfEmployed</th>\n",
       "      <th>FamilyWork</th>\n",
       "      <th>Unemployment</th>\n",
       "    </tr>\n",
       "  </thead>\n",
       "  <tbody>\n",
       "    <tr>\n",
       "      <th>0</th>\n",
       "      <td>0</td>\n",
       "      <td>1</td>\n",
       "      <td>NY</td>\n",
       "      <td>36085024402</td>\n",
       "      <td>Richmond</td>\n",
       "      <td>Staten Island</td>\n",
       "      <td>4241</td>\n",
       "      <td>2023</td>\n",
       "      <td>2218</td>\n",
       "      <td>3.7</td>\n",
       "      <td>...</td>\n",
       "      <td>1.1</td>\n",
       "      <td>0.6</td>\n",
       "      <td>4.0</td>\n",
       "      <td>44.3</td>\n",
       "      <td>2046</td>\n",
       "      <td>75.2</td>\n",
       "      <td>21.2</td>\n",
       "      <td>3.6</td>\n",
       "      <td>0.0</td>\n",
       "      <td>8.3</td>\n",
       "    </tr>\n",
       "    <tr>\n",
       "      <th>1</th>\n",
       "      <td>0</td>\n",
       "      <td>4</td>\n",
       "      <td>NY</td>\n",
       "      <td>36085024402</td>\n",
       "      <td>Richmond</td>\n",
       "      <td>Staten Island</td>\n",
       "      <td>4241</td>\n",
       "      <td>2023</td>\n",
       "      <td>2218</td>\n",
       "      <td>3.7</td>\n",
       "      <td>...</td>\n",
       "      <td>1.1</td>\n",
       "      <td>0.6</td>\n",
       "      <td>4.0</td>\n",
       "      <td>44.3</td>\n",
       "      <td>2046</td>\n",
       "      <td>75.2</td>\n",
       "      <td>21.2</td>\n",
       "      <td>3.6</td>\n",
       "      <td>0.0</td>\n",
       "      <td>8.3</td>\n",
       "    </tr>\n",
       "    <tr>\n",
       "      <th>2</th>\n",
       "      <td>0</td>\n",
       "      <td>1</td>\n",
       "      <td>NY</td>\n",
       "      <td>36085024402</td>\n",
       "      <td>Richmond</td>\n",
       "      <td>Staten Island</td>\n",
       "      <td>4241</td>\n",
       "      <td>2023</td>\n",
       "      <td>2218</td>\n",
       "      <td>3.7</td>\n",
       "      <td>...</td>\n",
       "      <td>1.1</td>\n",
       "      <td>0.6</td>\n",
       "      <td>4.0</td>\n",
       "      <td>44.3</td>\n",
       "      <td>2046</td>\n",
       "      <td>75.2</td>\n",
       "      <td>21.2</td>\n",
       "      <td>3.6</td>\n",
       "      <td>0.0</td>\n",
       "      <td>8.3</td>\n",
       "    </tr>\n",
       "    <tr>\n",
       "      <th>3</th>\n",
       "      <td>0</td>\n",
       "      <td>1</td>\n",
       "      <td>NY</td>\n",
       "      <td>36085024402</td>\n",
       "      <td>Richmond</td>\n",
       "      <td>Staten Island</td>\n",
       "      <td>4241</td>\n",
       "      <td>2023</td>\n",
       "      <td>2218</td>\n",
       "      <td>3.7</td>\n",
       "      <td>...</td>\n",
       "      <td>1.1</td>\n",
       "      <td>0.6</td>\n",
       "      <td>4.0</td>\n",
       "      <td>44.3</td>\n",
       "      <td>2046</td>\n",
       "      <td>75.2</td>\n",
       "      <td>21.2</td>\n",
       "      <td>3.6</td>\n",
       "      <td>0.0</td>\n",
       "      <td>8.3</td>\n",
       "    </tr>\n",
       "    <tr>\n",
       "      <th>4</th>\n",
       "      <td>0</td>\n",
       "      <td>2</td>\n",
       "      <td>NY</td>\n",
       "      <td>36085024402</td>\n",
       "      <td>Richmond</td>\n",
       "      <td>Staten Island</td>\n",
       "      <td>4241</td>\n",
       "      <td>2023</td>\n",
       "      <td>2218</td>\n",
       "      <td>3.7</td>\n",
       "      <td>...</td>\n",
       "      <td>1.1</td>\n",
       "      <td>0.6</td>\n",
       "      <td>4.0</td>\n",
       "      <td>44.3</td>\n",
       "      <td>2046</td>\n",
       "      <td>75.2</td>\n",
       "      <td>21.2</td>\n",
       "      <td>3.6</td>\n",
       "      <td>0.0</td>\n",
       "      <td>8.3</td>\n",
       "    </tr>\n",
       "  </tbody>\n",
       "</table>\n",
       "<p>5 rows × 39 columns</p>\n",
       "</div>"
      ],
      "text/plain": [
       "   Race  Num_Arrests State  CensusTract    County        Borough  TotalPop  \\\n",
       "0     0            1    NY  36085024402  Richmond  Staten Island      4241   \n",
       "1     0            4    NY  36085024402  Richmond  Staten Island      4241   \n",
       "2     0            1    NY  36085024402  Richmond  Staten Island      4241   \n",
       "3     0            1    NY  36085024402  Richmond  Staten Island      4241   \n",
       "4     0            2    NY  36085024402  Richmond  Staten Island      4241   \n",
       "\n",
       "    Men  Women  Hispanic  ...  Walk  OtherTransp  WorkAtHome  MeanCommute  \\\n",
       "0  2023   2218       3.7  ...   1.1          0.6         4.0         44.3   \n",
       "1  2023   2218       3.7  ...   1.1          0.6         4.0         44.3   \n",
       "2  2023   2218       3.7  ...   1.1          0.6         4.0         44.3   \n",
       "3  2023   2218       3.7  ...   1.1          0.6         4.0         44.3   \n",
       "4  2023   2218       3.7  ...   1.1          0.6         4.0         44.3   \n",
       "\n",
       "   Employed  PrivateWork  PublicWork  SelfEmployed  FamilyWork  Unemployment  \n",
       "0      2046         75.2        21.2           3.6         0.0           8.3  \n",
       "1      2046         75.2        21.2           3.6         0.0           8.3  \n",
       "2      2046         75.2        21.2           3.6         0.0           8.3  \n",
       "3      2046         75.2        21.2           3.6         0.0           8.3  \n",
       "4      2046         75.2        21.2           3.6         0.0           8.3  \n",
       "\n",
       "[5 rows x 39 columns]"
      ]
     },
     "execution_count": 101,
     "metadata": {},
     "output_type": "execute_result"
    }
   ],
   "source": [
    "arrest_data = pd.read_csv(\"arrests_w_census_loc.csv\")\n",
    "arrest_data.PERP_RACE[arrest_data.PERP_RACE.str.contains(\"WHITE\")]=0\n",
    "arrest_data.PERP_RACE[arrest_data.PERP_RACE != 0]=1\n",
    "arrest_data = arrest_data.groupby([\"PERP_RACE\",\"BlockLocation\"]).size().reset_index(name='counts')\n",
    "blockLocation = arrest_data[\"BlockLocation\"]\n",
    "blockLat = [float(re.findall(r'[-\\d\\.]+', bl)[0]) for bl in blockLocation]\n",
    "blockLon = [float(re.findall(r'[-\\d\\.]+', bl)[1]) for bl in blockLocation]\n",
    "arrest_data[\"blockLat\"]=blockLat\n",
    "arrest_data[\"blockLon\"]=blockLon\n",
    "arrest_data = arrest_data.drop(\"BlockLocation\", axis=1)\n",
    "arrest_data = arrest_data.rename(columns={\"counts\": \"Num_Arrests\", \"PERP_RACE\": \"Race\"})\n",
    "block_data = pd.read_csv(\"census_block_loc.csv\")\n",
    "block_data = pd.merge(left=arrest_data, right=block_data,\n",
    "                      left_on=[\"blockLat\",\"blockLon\"], right_on=[\"Latitude\",\"Longitude\"])\n",
    "census_data = pd.read_csv(\"nyc_census_tracts.csv\")\n",
    "tracts = block_data[\"BlockCode\"]\n",
    "tracts = [int(str(tract)[:-4]) for tract in tracts]\n",
    "block_data[\"tracts\"]=tracts\n",
    "block_data = block_data.drop(columns=[\"Latitude\",\"Longitude\",\"BlockCode\",\"County\",\"blockLat\",\"blockLon\"])\n",
    "data = pd.merge(left=block_data, right=census_data, left_on=\"tracts\", right_on=\"CensusTract\")\n",
    "data = data.drop(\"tracts\", axis=1)\n",
    "data.head()"
   ]
  },
  {
   "cell_type": "markdown",
   "metadata": {},
   "source": [
    "# Apply Feature Scaling to Continuous Features"
   ]
  },
  {
   "cell_type": "code",
   "execution_count": 102,
   "metadata": {},
   "outputs": [],
   "source": [
    "num_cols = ['TotalPop','Men','Women','Hispanic','White','Black','Native','Asian','Citizen','Income','IncomeErr','IncomePerCap','IncomePerCapErr','Poverty','ChildPoverty','Professional','Service','Office','Construction','Production','Drive','Carpool','Transit','Walk','OtherTransp','WorkAtHome','MeanCommute','Employed','PrivateWork','PublicWork','SelfEmployed','FamilyWork','Unemployment']\n",
    "X = data[num_cols].values\n",
    "data.drop(columns=num_cols)\n",
    "scaler = MinMaxScaler()\n",
    "X = scaler.fit_transform(X)\n",
    "num_data = pd.DataFrame(X, columns=num_cols)\n",
    "data[num_cols]=num_data\n",
    "data = data.dropna()\n",
    "data = data[data[\"Num_Arrests\"]<10]"
   ]
  },
  {
   "cell_type": "markdown",
   "metadata": {},
   "source": [
    "# Split Data by Race and Into Train/Test Datasets"
   ]
  },
  {
   "cell_type": "code",
   "execution_count": 103,
   "metadata": {},
   "outputs": [],
   "source": [
    "cols = data.shape[1]\n",
    "data_white = data[data[\"Race\"]==0].drop(\"Race\", axis=1)\n",
    "data_non_white=data[data[\"Race\"]==1].drop(\"Race\", axis=1)\n",
    "data_white_train = data_white.sample(frac=0.8,random_state=101)\n",
    "data_white_test  = data_white.drop(data_white_train.index)\n",
    "data_non_white_train = data_non_white.sample(frac=0.8,random_state=101)\n",
    "data_non_white_test  = data_non_white.drop(data_non_white_train.index)\n",
    "Xw = data_white_train.iloc[:,1:cols]\n",
    "yw = data_white_train.iloc[:,0]\n",
    "Xnw = data_non_white_train.iloc[:,1:cols]\n",
    "ynw = data_non_white_train.iloc[:,0]\n",
    "Xwt = data_white_test.iloc[:,1:cols]\n",
    "ywt = data_white_test.iloc[:,0]\n",
    "Xnwt = data_non_white_test.iloc[:,1:cols]\n",
    "ynwt = data_non_white_test.iloc[:,0]"
   ]
  },
  {
   "cell_type": "markdown",
   "metadata": {},
   "source": [
    "# Encode Categorical Features as Numerical Values"
   ]
  },
  {
   "cell_type": "code",
   "execution_count": 104,
   "metadata": {},
   "outputs": [],
   "source": [
    "cat_cols = ['State','CensusTract','County','Borough']\n",
    "encoder = LabelEncoder()\n",
    "for var in cat_cols:\n",
    "    Xw[var] = encoder.fit_transform(Xw[var])\n",
    "    Xnw[var] = encoder.fit_transform(Xnw[var])\n",
    "    Xwt[var] = encoder.fit_transform(Xwt[var])\n",
    "    Xnwt[var] = encoder.fit_transform(Xnwt[var])"
   ]
  },
  {
   "cell_type": "markdown",
   "metadata": {},
   "source": [
    "# See If Polynomial or RBF Nonlinear Kernels will Work Better"
   ]
  },
  {
   "cell_type": "code",
   "execution_count": 50,
   "metadata": {},
   "outputs": [
    {
     "name": "stdout",
     "output_type": "stream",
     "text": [
      "The average MSE for White RBF is 5.153915961947049\n",
      "The average MSE for Non-White RBF is 5.500366595853112\n",
      "The average MSE for White Polynomial is 4.976207783003486\n",
      "The average MSE for Non-White Polynomial is 5.58304245286778\n"
     ]
    }
   ],
   "source": [
    "rbfw = SVR(gamma='scale',kernel='rbf')\n",
    "cv = cross_val_score(rbfw, Xw, yw, cv=10, scoring=\"neg_mean_squared_error\")\n",
    "print(\"The average MSE for White RBF is\",-sum(cv)/len(cv))\n",
    "\n",
    "rbfnw = SVR(gamma='scale',kernel='rbf')\n",
    "cv = cross_val_score(rbfnw, Xnw, ynw, cv=10, scoring=\"neg_mean_squared_error\")\n",
    "print(\"The average MSE for Non-White RBF is\",-sum(cv)/len(cv))\n",
    "\n",
    "polyw = SVR(gamma='scale',kernel='poly')\n",
    "cv = cross_val_score(polyw, Xw, yw, cv=10, scoring=\"neg_mean_squared_error\")\n",
    "print(\"The average MSE for White Polynomial is\",-sum(cv)/len(cv))\n",
    "\n",
    "polynw = SVR(gamma='scale',kernel='poly')\n",
    "cv = cross_val_score(polynw, Xnw, ynw, cv=10, scoring=\"neg_mean_squared_error\")\n",
    "print(\"The average MSE for Non-White Polynomial is\",-sum(cv)/len(cv))"
   ]
  },
  {
   "cell_type": "markdown",
   "metadata": {},
   "source": [
    "# Randomized Search to Find Optimal HyperParams"
   ]
  },
  {
   "cell_type": "code",
   "execution_count": 51,
   "metadata": {},
   "outputs": [
    {
     "name": "stdout",
     "output_type": "stream",
     "text": [
      "optimal C 8.563682513214706\n",
      "optimal gamma scale\n",
      "optimal epsilon 0.9772695203446767\n",
      "optimal kernel poly\n",
      "The average MSE for White is 4.767569137413486\n",
      "optimal C 7.772350817225444\n",
      "optimal gamma scale\n",
      "optimal epsilon 0.8317591371858033\n",
      "optimal kernel rbf\n",
      "The average MSE for Non-White is 5.3848209292217595\n"
     ]
    }
   ],
   "source": [
    "params = {\"C\":uniform(0,10),\"epsilon\":uniform(0.5,1.5),\"kernel\":[\"poly\",\"rbf\"]}\n",
    "\n",
    "rscv = RandomizedSearchCV(SVR(gamma=\"scale\"),params,cv=3,iid=False)\n",
    "rscv.fit(Xw,yw)\n",
    "print(\"optimal C\", rscv.best_estimator_.get_params()[\"C\"])\n",
    "print(\"optimal gamma\", rscv.best_estimator_.get_params()[\"gamma\"])\n",
    "print(\"optimal epsilon\", rscv.best_estimator_.get_params()[\"epsilon\"])\n",
    "print(\"optimal kernel\", rscv.best_estimator_.get_params()[\"kernel\"])\n",
    "cv = cross_val_score(rscv, Xw, yw, cv=3, scoring=\"neg_mean_squared_error\")\n",
    "print(\"The average MSE for White is\",-sum(cv)/len(cv))\n",
    "\n",
    "rscv2 = RandomizedSearchCV(SVR(gamma=\"scale\"),params,cv=3,iid=False)\n",
    "rscv2.fit(Xnw,ynw)\n",
    "print(\"optimal C\", rscv2.best_estimator_.get_params()[\"C\"])\n",
    "print(\"optimal gamma\", rscv2.best_estimator_.get_params()[\"gamma\"])\n",
    "print(\"optimal epsilon\", rscv2.best_estimator_.get_params()[\"epsilon\"])\n",
    "print(\"optimal kernel\", rscv2.best_estimator_.get_params()[\"kernel\"])\n",
    "cv = cross_val_score(rscv, Xnw, ynw, cv=3, scoring=\"neg_mean_squared_error\")\n",
    "print(\"The average MSE for Non-White is\",-sum(cv)/len(cv))\n"
   ]
  },
  {
   "cell_type": "markdown",
   "metadata": {},
   "source": [
    "# Get Test Data Metrics"
   ]
  },
  {
   "cell_type": "code",
   "execution_count": 52,
   "metadata": {},
   "outputs": [
    {
     "name": "stdout",
     "output_type": "stream",
     "text": [
      "Test MSE for White:  4.7751376748887955\n",
      "Test MAE for White:  1.7426897995383672\n",
      "Test MSE for Non-White:  5.095411595483272\n",
      "Test MAE for Non-White:  1.8615777133120486\n"
     ]
    }
   ],
   "source": [
    "Final_model = SVR(kernel='rbf', C=8, gamma=\"scale\", epsilon=0.9)\n",
    "Final_model.fit(Xw, yw)\n",
    "test_predicted = Final_model.predict(Xwt)\n",
    "mse = mean_squared_error(ywt, test_predicted)\n",
    "print(\"Test MSE for White: \",mse)\n",
    "mae = mean_absolute_error(ywt, test_predicted)\n",
    "print(\"Test MAE for White: \",mae)\n",
    "Final_model.fit(Xnw, ynw)\n",
    "test_predicted_2 = Final_model.predict(Xnwt)\n",
    "mse = mean_squared_error(ynwt, test_predicted_2)\n",
    "print(\"Test MSE for Non-White: \",mse)\n",
    "mae = mean_absolute_error(ynwt, test_predicted_2)\n",
    "print(\"Test MAE for Non-White: \",mae)"
   ]
  },
  {
   "cell_type": "markdown",
   "metadata": {},
   "source": [
    "# Try Random Forrest Instead"
   ]
  },
  {
   "cell_type": "code",
   "execution_count": 53,
   "metadata": {},
   "outputs": [
    {
     "name": "stderr",
     "output_type": "stream",
     "text": [
      "/usr/local/lib/python3.6/dist-packages/sklearn/ensemble/forest.py:245: FutureWarning: The default value of n_estimators will change from 10 in version 0.20 to 100 in 0.22.\n",
      "  \"10 in version 0.20 to 100 in 0.22.\", FutureWarning)\n"
     ]
    },
    {
     "name": "stdout",
     "output_type": "stream",
     "text": [
      "The average MSE for White is 4.742573840908772\n",
      "The average MSE for Non-White is 5.361270009162004\n"
     ]
    }
   ],
   "source": [
    "model = RandomForestRegressor()\n",
    "model.fit(Xw, yw)\n",
    "cv = cross_val_score(Final_model, Xw, yw, cv=10, scoring=\"neg_mean_squared_error\")\n",
    "print(\"The average MSE for White is\",-sum(cv)/len(cv))\n",
    "model.fit(Xnw, ynw)\n",
    "cv = cross_val_score(Final_model, Xnw, ynw, cv=10, scoring=\"neg_mean_squared_error\")\n",
    "print(\"The average MSE for Non-White is\",-sum(cv)/len(cv))"
   ]
  },
  {
   "cell_type": "markdown",
   "metadata": {},
   "source": [
    "# Try to find Optimal Hyperparams for Random Forrest"
   ]
  },
  {
   "cell_type": "code",
   "execution_count": 106,
   "metadata": {},
   "outputs": [
    {
     "name": "stdout",
     "output_type": "stream",
     "text": [
      "optimal n_estimators 20\n",
      "optimal min_samples_split 20\n",
      "optimal max_features 5\n",
      "optimal n_estimators 10\n",
      "optimal min_samples_split 20\n",
      "optimal max_features 15\n"
     ]
    }
   ],
   "source": [
    "params = {\"n_estimators\":[10,20,50,100], \"min_samples_split\":[2,5,10,15,20], \"max_features\":[5,10,15,20]}\n",
    "\n",
    "rscv = RandomizedSearchCV(RandomForestRegressor(),params,cv=5,iid=False)\n",
    "rscv.fit(Xw,yw)\n",
    "print(\"optimal n_estimators\", rscv.best_estimator_.get_params()[\"n_estimators\"])\n",
    "print(\"optimal min_samples_split\", rscv.best_estimator_.get_params()[\"min_samples_split\"])\n",
    "print(\"optimal max_features\", rscv.best_estimator_.get_params()[\"max_features\"])\n",
    "\n",
    "rscv2 = RandomizedSearchCV(RandomForestRegressor(),params,cv=5,iid=False)\n",
    "rscv2.fit(Xnw,ynw)\n",
    "print(\"optimal n_estimators\", rscv2.best_estimator_.get_params()[\"n_estimators\"])\n",
    "print(\"optimal min_samples_split\", rscv2.best_estimator_.get_params()[\"min_samples_split\"])\n",
    "print(\"optimal max_features\", rscv2.best_estimator_.get_params()[\"max_features\"])"
   ]
  },
  {
   "cell_type": "markdown",
   "metadata": {},
   "source": [
    "# Fit Best Random Forrest"
   ]
  },
  {
   "cell_type": "code",
   "execution_count": 109,
   "metadata": {},
   "outputs": [
    {
     "name": "stdout",
     "output_type": "stream",
     "text": [
      "Test MSE for White:  3.9207023697459857\n",
      "Test MAE for White:  1.5668293881198787\n",
      "Test MSE for Non-White:  4.427723461825598\n",
      "Test MAE for Non-White:  1.6785061517340543\n"
     ]
    }
   ],
   "source": [
    "Final_model = RandomForestRegressor(n_estimators=15, min_samples_split=20, max_features=10)\n",
    "Final_model.fit(Xw, yw)\n",
    "test_predicted = Final_model.predict(Xwt)\n",
    "mse = mean_squared_error(ywt, test_predicted)\n",
    "print(\"Test MSE for White: \",mse)\n",
    "mae = mean_absolute_error(ywt, test_predicted)\n",
    "print(\"Test MAE for White: \",mae)\n",
    "Final_model.fit(Xnw, ynw)\n",
    "test_predicted_2 = Final_model.predict(Xnwt)\n",
    "mse = mean_squared_error(ynwt, test_predicted_2)\n",
    "print(\"Test MSE for Non-White: \",mse)\n",
    "mae = mean_absolute_error(ynwt, test_predicted_2)\n",
    "print(\"Test MAE for Non-White: \",mae)"
   ]
  },
  {
   "cell_type": "markdown",
   "metadata": {},
   "source": [
    "# Predict Output And Prepare Bias Metric"
   ]
  },
  {
   "cell_type": "code",
   "execution_count": 110,
   "metadata": {},
   "outputs": [],
   "source": [
    "Final_model.fit(Xw, yw)\n",
    "Xw[\"predicted_w\"] = Final_model.predict(Xw)\n",
    "Final_model.fit(Xnw, ynw)\n",
    "Xnw[\"predicted_nw\"] = Final_model.predict(Xnw)\n",
    "Xnw = Xnw[[\"CensusTract\", \"predicted_nw\"]]\n",
    "X = pd.merge(left=Xw, right=Xnw,left_on=\"CensusTract\", right_on=\"CensusTract\")\n",
    "X[\"Non-White\"]=1-X[\"White\"]\n",
    "X[\"y\"] = np.log(abs(X[\"predicted_w\"]/X[\"White\"]-X[\"predicted_nw\"]/X[\"Non-White\"]))\n",
    "X = X.replace(np.inf, np.nan)\n",
    "X = X.dropna()\n",
    "X_train = X.sample(frac=0.8,random_state=101)\n",
    "Xt=X.drop(X_train.index)\n",
    "X=X_train\n",
    "y = X[\"y\"]\n",
    "yt=Xt[\"y\"]\n",
    "X = X.drop(columns=['Hispanic','Black','Native','Asian',\"White\",\"Non-White\",\"y\"])\n",
    "Xt = Xt.drop(columns=['Hispanic','Black','Native','Asian',\"White\",\"Non-White\",\"y\"])"
   ]
  },
  {
   "cell_type": "markdown",
   "metadata": {},
   "source": [
    "# See If Polynomial or RBF Nonlinear Kernels will Work Better"
   ]
  },
  {
   "cell_type": "code",
   "execution_count": 111,
   "metadata": {},
   "outputs": [
    {
     "name": "stdout",
     "output_type": "stream",
     "text": [
      "The average MSE for RBF is 3.1762707772077254\n",
      "The average MSE for Polynomial is 3.4833345356034044\n"
     ]
    }
   ],
   "source": [
    "rbf = SVR(gamma='scale',kernel='rbf')\n",
    "cv = cross_val_score(rbf, X, y, cv=10, scoring=\"neg_mean_squared_error\")\n",
    "print(\"The average MSE for RBF is\",-sum(cv)/len(cv))\n",
    "\n",
    "poly = SVR(gamma='scale',kernel='poly')\n",
    "cv = cross_val_score(poly, X, y, cv=10, scoring=\"neg_mean_squared_error\")\n",
    "print(\"The average MSE for Polynomial is\",-sum(cv)/len(cv))"
   ]
  },
  {
   "cell_type": "markdown",
   "metadata": {},
   "source": [
    "# Randomized Search to Find Optimal HyperParams"
   ]
  },
  {
   "cell_type": "code",
   "execution_count": 97,
   "metadata": {},
   "outputs": [
    {
     "name": "stdout",
     "output_type": "stream",
     "text": [
      "optimal C 3.7439087066252217\n",
      "optimal gamma 0.14451796277600126\n",
      "optimal epsilon 0.14520538741887112\n",
      "The average MSE is 0.541945428003381\n"
     ]
    }
   ],
   "source": [
    "params = {\"C\":uniform(0,10),\"gamma\":uniform(0.001,1),\"epsilon\":uniform(0,1)}\n",
    "\n",
    "rscv = RandomizedSearchCV(SVR(kernel=\"rbf\"),params,cv=3,iid=False)\n",
    "rscv.fit(Xw,yw)\n",
    "print(\"optimal C\", rscv.best_estimator_.get_params()[\"C\"])\n",
    "print(\"optimal gamma\", rscv.best_estimator_.get_params()[\"gamma\"])\n",
    "print(\"optimal epsilon\", rscv.best_estimator_.get_params()[\"epsilon\"])\n",
    "cv = cross_val_score(rscv, X, y, cv=3, scoring=\"neg_mean_squared_error\")\n",
    "print(\"The average MSE is\",-sum(cv)/len(cv))"
   ]
  },
  {
   "cell_type": "markdown",
   "metadata": {},
   "source": [
    "# Get Test Data Metrics"
   ]
  },
  {
   "cell_type": "code",
   "execution_count": 112,
   "metadata": {},
   "outputs": [
    {
     "name": "stdout",
     "output_type": "stream",
     "text": [
      "Test MSE:  0.3289576037679587\n",
      "Test MAE:  0.25962012733643997\n"
     ]
    }
   ],
   "source": [
    "Final_model = SVR(kernel='rbf', C=4, gamma=0.15, epsilon=0.15)\n",
    "Final_model.fit(X, y)\n",
    "test_predicted = Final_model.predict(Xt)\n",
    "mse = mean_squared_error(yt, test_predicted)\n",
    "print(\"Test MSE: \",mse)\n",
    "mae = mean_absolute_error(yt, test_predicted)\n",
    "print(\"Test MAE: \",mae)"
   ]
  }
 ],
 "metadata": {
  "kernelspec": {
   "display_name": "Python 3",
   "language": "python",
   "name": "python3"
  },
  "language_info": {
   "codemirror_mode": {
    "name": "ipython",
    "version": 3
   },
   "file_extension": ".py",
   "mimetype": "text/x-python",
   "name": "python",
   "nbconvert_exporter": "python",
   "pygments_lexer": "ipython3",
   "version": "3.6.8"
  }
 },
 "nbformat": 4,
 "nbformat_minor": 2
}
