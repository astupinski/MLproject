{
 "cells": [
  {
   "cell_type": "markdown",
   "metadata": {},
   "source": [
    "# Imports"
   ]
  },
  {
   "cell_type": "code",
   "execution_count": 44,
   "metadata": {},
   "outputs": [],
   "source": [
    "%matplotlib inline\n",
    "import matplotlib.pyplot as plt\n",
    "import numpy as np\n",
    "np.random.seed(42)#set  random seed for reproducability\n",
    "import pandas as pd\n",
    "import re\n",
    "from sklearn.model_selection import train_test_split\n",
    "from sklearn.svm import SVR\n",
    "from sklearn.ensemble import RandomForestRegressor\n",
    "from sklearn.preprocessing import LabelEncoder\n",
    "from sklearn.preprocessing import StandardScaler\n",
    "from sklearn.metrics import mean_squared_error\n",
    "from sklearn.metrics import mean_absolute_error\n",
    "from sklearn.model_selection import cross_val_score\n",
    "from sklearn.model_selection import RandomizedSearchCV\n",
    "from scipy.stats import uniform\n",
    "from keras.models import Sequential\n",
    "from keras.layers import Dense\n",
    "import gmaps"
   ]
  },
  {
   "cell_type": "markdown",
   "metadata": {},
   "source": [
    "# Load Data and Merge"
   ]
  },
  {
   "cell_type": "code",
   "execution_count": 45,
   "metadata": {},
   "outputs": [
    {
     "name": "stderr",
     "output_type": "stream",
     "text": [
      "/home/erik7brown/.local/lib/python3.6/site-packages/ipykernel_launcher.py:2: SettingWithCopyWarning: \n",
      "A value is trying to be set on a copy of a slice from a DataFrame\n",
      "\n",
      "See the caveats in the documentation: http://pandas.pydata.org/pandas-docs/stable/user_guide/indexing.html#returning-a-view-versus-a-copy\n",
      "  \n",
      "/home/erik7brown/.local/lib/python3.6/site-packages/ipykernel_launcher.py:3: SettingWithCopyWarning: \n",
      "A value is trying to be set on a copy of a slice from a DataFrame\n",
      "\n",
      "See the caveats in the documentation: http://pandas.pydata.org/pandas-docs/stable/user_guide/indexing.html#returning-a-view-versus-a-copy\n",
      "  This is separate from the ipykernel package so we can avoid doing imports until\n"
     ]
    }
   ],
   "source": [
    "arrest_data = pd.read_csv(\"arrests_w_census_loc.csv\")\n",
    "arrest_data.PERP_RACE[arrest_data.PERP_RACE.str.contains(\"WHITE\")]=0\n",
    "arrest_data.PERP_RACE[arrest_data.PERP_RACE != 0]=1\n",
    "arrest_data = arrest_data.groupby([\"PERP_RACE\",\"BlockLocation\"]).size().reset_index(name='counts')\n",
    "blockLocation = arrest_data[\"BlockLocation\"]\n",
    "blockLat = [float(re.findall(r'[-\\d\\.]+', bl)[0]) for bl in blockLocation]\n",
    "blockLon = [float(re.findall(r'[-\\d\\.]+', bl)[1]) for bl in blockLocation]\n",
    "arrest_data[\"blockLat\"]=blockLat\n",
    "arrest_data[\"blockLon\"]=blockLon\n",
    "arrest_data = arrest_data.drop(\"BlockLocation\", axis=1)\n",
    "arrest_data = arrest_data.rename(columns={\"counts\": \"Num_Arrests\", \"PERP_RACE\": \"Race\"})\n",
    "block_data = pd.read_csv(\"census_block_loc.csv\")\n",
    "block_data = pd.merge(left=arrest_data, right=block_data,\n",
    "                      left_on=[\"blockLat\",\"blockLon\"], right_on=[\"Latitude\",\"Longitude\"])\n",
    "census_data = pd.read_csv(\"nyc_census_tracts.csv\")\n",
    "tracts = block_data[\"BlockCode\"]\n",
    "tracts = [int(str(tract)[:-4]) for tract in tracts]\n",
    "block_data[\"tracts\"]=tracts\n",
    "block_data = block_data.drop(columns=[\"Latitude\",\"Longitude\",\"BlockCode\",\"County\",\"blockLat\",\"blockLon\"])\n",
    "data = pd.merge(left=block_data, right=census_data, left_on=\"tracts\", right_on=\"CensusTract\")\n",
    "data = data.drop(\"tracts\", axis=1)\n",
    "data = data.drop(\"State\", axis=1)"
   ]
  },
  {
   "cell_type": "markdown",
   "metadata": {},
   "source": [
    "# Remove Outlier Locations"
   ]
  },
  {
   "cell_type": "code",
   "execution_count": 46,
   "metadata": {},
   "outputs": [
    {
     "name": "stdout",
     "output_type": "stream",
     "text": [
      "There are 11341 Samples Before Outlier Removal\n"
     ]
    },
    {
     "data": {
      "image/png": "[encoded data removed]",
      "text/plain": [
       "<Figure size 432x288 with 1 Axes>"
      ]
     },
     "metadata": {
      "needs_background": "light"
     },
     "output_type": "display_data"
    },
    {
     "name": "stdout",
     "output_type": "stream",
     "text": [
      "There are 11021 Samples After Outlier Removal\n"
     ]
    },
    {
     "data": {
      "image/png": "[encoded data removed]",
      "text/plain": [
       "<Figure size 432x288 with 1 Axes>"
      ]
     },
     "metadata": {
      "needs_background": "light"
     },
     "output_type": "display_data"
    },
    {
     "name": "stdout",
     "output_type": "stream",
     "text": [
      "97.1783793316286% of Samples were Kept\n"
     ]
    }
   ],
   "source": [
    "data[\"Num_Arrests\"].hist(bins='auto')\n",
    "data_size=data.shape[0]\n",
    "print(\"There are\",data_size,\"Samples Before Outlier Removal\")\n",
    "plt.show()\n",
    "data = data[data[\"Num_Arrests\"]<50]\n",
    "new_size=data.shape[0]\n",
    "print(\"There are\",new_size,\"Samples After Outlier Removal\")\n",
    "data[\"Num_Arrests\"].hist(bins='auto')\n",
    "plt.show()\n",
    "print(100*new_size/data_size,\"% of Samples were Kept\",sep=\"\")"
   ]
  },
  {
   "cell_type": "markdown",
   "metadata": {},
   "source": [
    "# Create Data Aggregates by County"
   ]
  },
  {
   "cell_type": "code",
   "execution_count": 47,
   "metadata": {},
   "outputs": [],
   "source": [
    "def agg_all(data):\n",
    "    new_data = {}\n",
    "    for colname in ['Num_Arrests','TotalPop','Men','Women','Citizen','Income','IncomeErr', 'Employed']:\n",
    "        new_data[colname]=data[colname].sum()\n",
    "    for colname in ['Hispanic', 'White', 'Black', 'Native', 'Asian','IncomePerCap','IncomePerCapErr','Poverty', 'ChildPoverty', 'Professional', 'Service', 'Office',\n",
    "            'Construction', 'Production', 'Drive', 'Carpool', 'Transit', 'Walk','OtherTransp', 'WorkAtHome',\n",
    "           'MeanCommute','PrivateWork','PublicWork','SelfEmployed','FamilyWork','Unemployment']:\n",
    "        ratio = data[colname]*data['TotalPop']\n",
    "        new_data[colname]=(ratio.sum()/100)/data.size\n",
    "    return pd.Series(new_data)\n",
    "\n",
    "agg_data = data.groupby(['County','Race']).apply(agg_all)"
   ]
  },
  {
   "cell_type": "markdown",
   "metadata": {},
   "source": [
    "# Attatch Aggregate to Data"
   ]
  },
  {
   "cell_type": "code",
   "execution_count": 48,
   "metadata": {},
   "outputs": [],
   "source": [
    "agg_data[\"arrest_ratio\"]=agg_data[\"Num_Arrests\"]/agg_data[\"TotalPop\"]\n",
    "arrest_ratio = list(agg_data[\"arrest_ratio\"])\n",
    "county = list(agg_data.index.get_level_values(0))\n",
    "race = list(agg_data.index.get_level_values(1))\n",
    "agg_data = pd.DataFrame(arrest_ratio, columns=[\"arrest_ratio\"])\n",
    "agg_data[\"County\"]=county\n",
    "agg_data[\"Race\"]=race\n",
    "data = pd.merge(data, agg_data, on=[\"County\",\"Race\"])\n",
    "data[\"County_Num_Arrests\"]=data[\"arrest_ratio\"]*data[\"TotalPop\"]\n",
    "data = data.drop(\"arrest_ratio\", axis=1)"
   ]
  },
  {
   "cell_type": "markdown",
   "metadata": {},
   "source": [
    "# Apply Z Scaling to Continuous Features"
   ]
  },
  {
   "cell_type": "code",
   "execution_count": 49,
   "metadata": {},
   "outputs": [],
   "source": [
    "num_cols = ['TotalPop','Men','Women','Hispanic','White','Black','Native','Asian','Citizen','Income','IncomeErr','IncomePerCap','IncomePerCapErr','Poverty','ChildPoverty','Professional','Service','Office','Construction','Production','Drive','Carpool','Transit','Walk','OtherTransp','WorkAtHome','MeanCommute','Employed','PrivateWork','PublicWork','SelfEmployed','FamilyWork','Unemployment']\n",
    "X = data[num_cols].values\n",
    "data.drop(columns=num_cols)\n",
    "scaler = StandardScaler()\n",
    "X = scaler.fit_transform(X)\n",
    "num_data = pd.DataFrame(X, columns=num_cols)\n",
    "data[num_cols]=num_data\n",
    "data = data.dropna()"
   ]
  },
  {
   "cell_type": "markdown",
   "metadata": {},
   "source": [
    "# Split Data by Race and Into Train/Test Datasets"
   ]
  },
  {
   "cell_type": "code",
   "execution_count": 50,
   "metadata": {},
   "outputs": [],
   "source": [
    "cols = data.shape[1]\n",
    "data_white = data[data[\"Race\"]==0].drop(\"Race\", axis=1)\n",
    "data_non_white=data[data[\"Race\"]==1].drop(\"Race\", axis=1)\n",
    "data_white_train = data_white.sample(frac=0.8,random_state=101)\n",
    "data_white_test  = data_white.drop(data_white_train.index)\n",
    "data_non_white_train = data_non_white.sample(frac=0.8,random_state=101)\n",
    "data_non_white_test  = data_non_white.drop(data_non_white_train.index)\n",
    "Xw = data_white_train.iloc[:,1:cols]\n",
    "yw = data_white_train.iloc[:,0]\n",
    "Xnw = data_non_white_train.iloc[:,1:cols]\n",
    "ynw = data_non_white_train.iloc[:,0]\n",
    "Xwt = data_white_test.iloc[:,1:cols]\n",
    "ywt = data_white_test.iloc[:,0]\n",
    "Xnwt = data_non_white_test.iloc[:,1:cols]\n",
    "ynwt = data_non_white_test.iloc[:,0]"
   ]
  },
  {
   "cell_type": "markdown",
   "metadata": {},
   "source": [
    "# Encode Categorical Features as Numerical Values"
   ]
  },
  {
   "cell_type": "code",
   "execution_count": 51,
   "metadata": {},
   "outputs": [],
   "source": [
    "cat_cols = ['County','Borough']\n",
    "encoder = LabelEncoder()\n",
    "for var in cat_cols:\n",
    "    Xw[var] = encoder.fit_transform(Xw[var])\n",
    "    Xnw[var] = encoder.fit_transform(Xnw[var])\n",
    "    Xwt[var] = encoder.fit_transform(Xwt[var])\n",
    "    Xnwt[var] = encoder.fit_transform(Xnwt[var])"
   ]
  },
  {
   "cell_type": "markdown",
   "metadata": {},
   "source": [
    "# Initial Test of Nonlinear Kernels"
   ]
  },
  {
   "cell_type": "code",
   "execution_count": null,
   "metadata": {},
   "outputs": [],
   "source": [
    "rbfw = SVR(gamma='scale',kernel='rbf')\n",
    "cv = cross_val_score(rbfw, Xw, yw, cv=50, scoring=\"neg_mean_squared_error\")\n",
    "print(\"The average MSE for White RBF is\",-sum(cv)/len(cv))\n",
    "\n",
    "rbfnw = SVR(gamma='scale',kernel='rbf')\n",
    "cv = cross_val_score(rbfnw, Xnw, ynw, cv=50, scoring=\"neg_mean_squared_error\")\n",
    "print(\"The average MSE for Non-White RBF is\",-sum(cv)/len(cv))\n",
    "\n",
    "polyw = SVR(gamma='scale',kernel='poly')\n",
    "cv = cross_val_score(polyw, Xw, yw, cv=50, scoring=\"neg_mean_squared_error\")\n",
    "print(\"The average MSE for White Polynomial is\",-sum(cv)/len(cv))\n",
    "\n",
    "polynw = SVR(gamma='scale',kernel='poly')\n",
    "cv = cross_val_score(polynw, Xnw, ynw, cv=50, scoring=\"neg_mean_squared_error\")\n",
    "print(\"The average MSE for Non-White Polynomial is\",-sum(cv)/len(cv))"
   ]
  },
  {
   "cell_type": "markdown",
   "metadata": {},
   "source": [
    "# Random Search to Tune Hyperparameters"
   ]
  },
  {
   "cell_type": "code",
   "execution_count": null,
   "metadata": {},
   "outputs": [],
   "source": [
    "params = {\"C\":[0.1,0.5,1,5,10,50,100,500,1000],\"epsilon\":uniform(1,3),\"kernel\":[\"poly\",\"rbf\"]}\n",
    "\n",
    "rscv = RandomizedSearchCV(SVR(gamma=\"scale\"),params,cv=50,iid=False)\n",
    "rscv.fit(Xw,yw)\n",
    "print(\"optimal white C\", rscv.best_estimator_.get_params()[\"C\"])\n",
    "print(\"optimal white epsilon\", rscv.best_estimator_.get_params()[\"epsilon\"])\n",
    "print(\"optimal white kernel\", rscv.best_estimator_.get_params()[\"kernel\"])\n",
    "\n",
    "rscv2 = RandomizedSearchCV(SVR(gamma=\"scale\"),params,cv=50,iid=False)\n",
    "rscv2.fit(Xnw,ynw)\n",
    "print(\"optimal non-white C\", rscv2.best_estimator_.get_params()[\"C\"])\n",
    "print(\"optimal non-white epsilon\", rscv2.best_estimator_.get_params()[\"epsilon\"])\n",
    "print(\"optimal non-white kernel\", rscv2.best_estimator_.get_params()[\"kernel\"])\n"
   ]
  },
  {
   "cell_type": "markdown",
   "metadata": {},
   "source": [
    "# Run Test Data"
   ]
  },
  {
   "cell_type": "code",
   "execution_count": null,
   "metadata": {},
   "outputs": [],
   "source": [
    "Final_model = SVR(kernel='rbf', C=750, gamma=\"scale\", epsilon=1.5)\n",
    "Final_model.fit(Xw, yw)\n",
    "test_predicted = Final_model.predict(Xwt)\n",
    "mse = mean_squared_error(ywt, test_predicted)\n",
    "print(\"Test MSE for White: \",mse)\n",
    "mae = mean_absolute_error(ywt, test_predicted)\n",
    "print(\"Test MAE for White: \",mae)\n",
    "Final_model.fit(Xnw, ynw)\n",
    "test_predicted_2 = Final_model.predict(Xnwt)\n",
    "mse = mean_squared_error(ynwt, test_predicted_2)\n",
    "print(\"Test MSE for Non-White: \",mse)\n",
    "mae = mean_absolute_error(ynwt, test_predicted_2)\n",
    "print(\"Test MAE for Non-White: \",mae)"
   ]
  },
  {
   "cell_type": "markdown",
   "metadata": {},
   "source": [
    "# Try Random Forrest"
   ]
  },
  {
   "cell_type": "code",
   "execution_count": null,
   "metadata": {},
   "outputs": [],
   "source": [
    "model = RandomForestRegressor()\n",
    "model.fit(Xw, yw)\n",
    "cv = cross_val_score(model, Xw, yw, cv=50, scoring=\"neg_mean_squared_error\")\n",
    "print(\"The average MSE for White is\",-sum(cv)/len(cv))\n",
    "model.fit(Xnw, ynw)\n",
    "cv = cross_val_score(model, Xnw, ynw, cv=50, scoring=\"neg_mean_squared_error\")\n",
    "print(\"The average MSE for Non-White is\",-sum(cv)/len(cv))"
   ]
  },
  {
   "cell_type": "markdown",
   "metadata": {},
   "source": [
    "# Tune Random Forrest Hyperparameters"
   ]
  },
  {
   "cell_type": "code",
   "execution_count": null,
   "metadata": {},
   "outputs": [],
   "source": [
    "params = {\"min_samples_split\":[2,5,10,15,20,25,30,35], \"max_features\":[5,10,15,20,25,30]}\n",
    "\n",
    "rscv = RandomizedSearchCV(RandomForestRegressor(n_estimators=500),params,cv=50,iid=False)\n",
    "rscv.fit(Xw,yw)\n",
    "print(\"optimal white min_samples_split\", rscv.best_estimator_.get_params()[\"min_samples_split\"])\n",
    "print(\"optimal white max_features\", rscv.best_estimator_.get_params()[\"max_features\"])\n",
    "\n",
    "rscv2 = RandomizedSearchCV(RandomForestRegressor(n_estimators=500),params,cv=50,iid=False)\n",
    "rscv2.fit(Xnw,ynw)\n",
    "print(\"optimal non-white min_samples_split\", rscv2.best_estimator_.get_params()[\"min_samples_split\"])\n",
    "print(\"optimal non-white max_features\", rscv2.best_estimator_.get_params()[\"max_features\"])"
   ]
  },
  {
   "cell_type": "markdown",
   "metadata": {},
   "source": [
    "# Predict Test Data From Best Model"
   ]
  },
  {
   "cell_type": "code",
   "execution_count": 31,
   "metadata": {},
   "outputs": [
    {
     "name": "stdout",
     "output_type": "stream",
     "text": [
      "Test MSE for White:  30.42083038616415\n",
      "Test MAE for White:  3.29452600039051\n",
      "Test MSE for Non-White:  53.037397932812546\n",
      "Test MAE for Non-White:  4.654058652747073\n"
     ]
    }
   ],
   "source": [
    "Final_model = RandomForestRegressor(n_estimators=500, min_samples_split=32, max_features=25)\n",
    "Final_model.fit(Xw, yw)\n",
    "test_predicted = Final_model.predict(Xwt)\n",
    "mse = mean_squared_error(ywt, test_predicted)\n",
    "print(\"Test MSE for White: \",mse)\n",
    "mae = mean_absolute_error(ywt, test_predicted)\n",
    "print(\"Test MAE for White: \",mae)\n",
    "Final_model.fit(Xnw, ynw)\n",
    "test_predicted_2 = Final_model.predict(Xnwt)\n",
    "mse = mean_squared_error(ynwt, test_predicted_2)\n",
    "print(\"Test MSE for Non-White: \",mse)\n",
    "mae = mean_absolute_error(ynwt, test_predicted_2)\n",
    "print(\"Test MAE for Non-White: \",mae)"
   ]
  },
  {
   "cell_type": "markdown",
   "metadata": {},
   "source": [
    "# Create Bias Metric By County and Block"
   ]
  },
  {
   "cell_type": "code",
   "execution_count": 52,
   "metadata": {},
   "outputs": [],
   "source": [
    "Final_model.fit(Xw, yw)\n",
    "Xw[\"predicted_w\"] = Final_model.predict(Xw)\n",
    "Final_model.fit(Xnw, ynw)\n",
    "Xnw[\"predicted_nw\"] = Final_model.predict(Xnw)\n",
    "Xnw = Xnw[[\"CensusTract\", \"predicted_nw\",\"County_Num_Arrests\"]]\n",
    "Xnw = Xnw.rename(columns={\"County_Num_Arrests\":\"County_Num_Arrests_nw\"})\n",
    "X = pd.merge(left=Xw, right=Xnw,left_on=\"CensusTract\", right_on=\"CensusTract\")\n",
    "X[\"Non-White\"]=1-X[\"White\"]\n",
    "X[\"y\"] = np.log(abs(X[\"predicted_w\"]/X[\"White\"]-X[\"predicted_nw\"]/X[\"Non-White\"]))\n",
    "X = X.replace(np.inf, np.nan)\n",
    "X = X.dropna()\n",
    "X_train = X.sample(frac=0.8,random_state=101)\n",
    "Xt=X.drop(X_train.index)\n",
    "X=X_train\n",
    "y = X[\"y\"]\n",
    "yt=Xt[\"y\"]\n",
    "X = X.drop(columns=['Hispanic','Black','Native','Asian',\"y\"])\n",
    "Xt = Xt.drop(columns=['Hispanic','Black','Native','Asian',\"y\"])\n",
    "yc = np.log(abs(X[\"County_Num_Arrests\"]/X[\"White\"]-X[\"County_Num_Arrests_nw\"]/X[\"Non-White\"]))\n",
    "yct = np.log(abs(Xt[\"County_Num_Arrests\"]/Xt[\"White\"]-Xt[\"County_Num_Arrests_nw\"]/Xt[\"Non-White\"]))\n",
    "X = X.drop(columns=['White', 'Non-White', 'County_Num_Arrests', 'County_Num_Arrests_nw'], axis=1)\n",
    "Xt = Xt.drop(columns=['White', 'Non-White', 'County_Num_Arrests', 'County_Num_Arrests_nw'], axis=1)"
   ]
  },
  {
   "cell_type": "markdown",
   "metadata": {},
   "source": [
    "# Split Data into Training and Validation"
   ]
  },
  {
   "cell_type": "code",
   "execution_count": 53,
   "metadata": {},
   "outputs": [],
   "source": [
    "X['yb']=y\n",
    "X['yc']=yc\n",
    "Xtrain = X.sample(frac=0.9,random_state=101)\n",
    "Xvalid = X.drop(Xtrain.index)\n",
    "ybtrain = Xtrain['yb']\n",
    "yctrain = Xtrain['yc']\n",
    "ybvalid = Xvalid['yb']\n",
    "ycvalid = Xvalid['yc']\n",
    "X = X.drop(columns=['yb','yc'])"
   ]
  },
  {
   "cell_type": "markdown",
   "metadata": {},
   "source": [
    "# Create Plot of MSE vs Smoothing Factor "
   ]
  },
  {
   "cell_type": "code",
   "execution_count": null,
   "metadata": {},
   "outputs": [],
   "source": [
    "model = Sequential()\n",
    "model.add(Dense(50, input_dim = Xtrain.shape[1]-1, activation = 'relu'))\n",
    "model.add(Dense(1))\n",
    "model.compile(loss='mean_squared_error', optimizer = 'adam')\n",
    "meansqerrors={}\n",
    "for i in range(21):\n",
    "    j = i/20\n",
    "    ystrain = ybtrain-j*(ybtrain-yctrain)\n",
    "    ysvalid = ybvalid-j*(ybvalid-ycvalid)\n",
    "    model.fit(Xtrain.drop(columns=['CensusTract']), ystrain, epochs = 500, batch_size = 16)\n",
    "    score = model.evaluate(Xvalid.drop(columns=['CensusTract']), ysvalid)\n",
    "    meansqerrors[j]=score\n",
    "    print(j,score)\n",
    "plt.plot(list(meansqerrors.keys()), list(meansqerrors.values()))"
   ]
  },
  {
   "cell_type": "markdown",
   "metadata": {},
   "source": [
    "# Fit Model to Best Smoothing"
   ]
  },
  {
   "cell_type": "code",
   "execution_count": 56,
   "metadata": {},
   "outputs": [
    {
     "name": "stdout",
     "output_type": "stream",
     "text": [
      "Epoch 1/10\n",
      "9422/9422 [==============================] - 1s 62us/step - loss: 1.0616 - mean_squared_error: 1.0616 - mean_absolute_error: 0.6937\n",
      "Epoch 2/10\n",
      "9422/9422 [==============================] - 1s 59us/step - loss: 0.7295 - mean_squared_error: 0.7295 - mean_absolute_error: 0.5562\n",
      "Epoch 3/10\n",
      "9422/9422 [==============================] - 1s 60us/step - loss: 0.6012 - mean_squared_error: 0.6012 - mean_absolute_error: 0.5028\n",
      "Epoch 4/10\n",
      "9422/9422 [==============================] - 0s 44us/step - loss: 0.5118 - mean_squared_error: 0.5118 - mean_absolute_error: 0.4610\n",
      "Epoch 5/10\n",
      "9422/9422 [==============================] - 0s 44us/step - loss: 0.4465 - mean_squared_error: 0.4465 - mean_absolute_error: 0.4295\n",
      "Epoch 6/10\n",
      "9422/9422 [==============================] - 0s 46us/step - loss: 0.4019 - mean_squared_error: 0.4019 - mean_absolute_error: 0.4026\n",
      "Epoch 7/10\n",
      "9422/9422 [==============================] - 1s 57us/step - loss: 0.3746 - mean_squared_error: 0.3746 - mean_absolute_error: 0.3873\n",
      "Epoch 8/10\n",
      "9422/9422 [==============================] - 1s 58us/step - loss: 0.3513 - mean_squared_error: 0.3513 - mean_absolute_error: 0.3732\n",
      "Epoch 9/10\n",
      "9422/9422 [==============================] - 1s 71us/step - loss: 0.3325 - mean_squared_error: 0.3325 - mean_absolute_error: 0.3610\n",
      "Epoch 10/10\n",
      "9422/9422 [==============================] - 1s 58us/step - loss: 0.3125 - mean_squared_error: 0.3125 - mean_absolute_error: 0.3494\n"
     ]
    },
    {
     "data": {
      "text/plain": [
       "<keras.callbacks.History at 0x7f036644a7f0>"
      ]
     },
     "execution_count": 56,
     "metadata": {},
     "output_type": "execute_result"
    }
   ],
   "source": [
    "ys = y-.15*(y-yc)\n",
    "yst = yt-.15*(yt-yct)\n",
    "model = Sequential()\n",
    "model.add(Dense(50, input_dim = X.shape[1]-1, activation = 'relu'))\n",
    "model.add(Dense(1))\n",
    "model.compile(loss='mean_squared_error', optimizer = 'adam', metrics=['mean_squared_error','mean_absolute_error'])\n",
    "model.fit(X.drop(columns=['CensusTract']), ys, epochs = 1000, batch_size = 16)"
   ]
  },
  {
   "cell_type": "markdown",
   "metadata": {},
   "source": [
    "# Predict Bias of Smoothed Test Sets"
   ]
  },
  {
   "cell_type": "code",
   "execution_count": 57,
   "metadata": {},
   "outputs": [
    {
     "name": "stdout",
     "output_type": "stream",
     "text": [
      "2355/2355 [==============================] - 0s 32us/step\n",
      "MSE: 0.37305918804146426, MAE: 0.3660593203931351\n"
     ]
    }
   ],
   "source": [
    "_, MSE, MAE = model.evaluate(Xt.drop(columns=['CensusTract']), yst)\n",
    "print('MSE: ' + str(MSE) + ', MAE: '+ str(MAE))"
   ]
  },
  {
   "cell_type": "markdown",
   "metadata": {},
   "source": [
    "# Create Dataset to Visualize Smoothing"
   ]
  },
  {
   "cell_type": "code",
   "execution_count": 58,
   "metadata": {},
   "outputs": [
    {
     "data": {
      "text/html": [
       "<div>\n",
       "<style scoped>\n",
       "    .dataframe tbody tr th:only-of-type {\n",
       "        vertical-align: middle;\n",
       "    }\n",
       "\n",
       "    .dataframe tbody tr th {\n",
       "        vertical-align: top;\n",
       "    }\n",
       "\n",
       "    .dataframe thead th {\n",
       "        text-align: right;\n",
       "    }\n",
       "</style>\n",
       "<table border=\"1\" class=\"dataframe\">\n",
       "  <thead>\n",
       "    <tr style=\"text-align: right;\">\n",
       "      <th></th>\n",
       "      <th>y</th>\n",
       "      <th>yc</th>\n",
       "      <th>ys</th>\n",
       "      <th>Latitude</th>\n",
       "      <th>Longitude</th>\n",
       "    </tr>\n",
       "  </thead>\n",
       "  <tbody>\n",
       "    <tr>\n",
       "      <th>0</th>\n",
       "      <td>2.027787</td>\n",
       "      <td>1.534278</td>\n",
       "      <td>1.953761</td>\n",
       "      <td>40.841809</td>\n",
       "      <td>-73.874774</td>\n",
       "    </tr>\n",
       "    <tr>\n",
       "      <th>1</th>\n",
       "      <td>2.027787</td>\n",
       "      <td>1.534278</td>\n",
       "      <td>1.953761</td>\n",
       "      <td>40.844070</td>\n",
       "      <td>-73.874774</td>\n",
       "    </tr>\n",
       "    <tr>\n",
       "      <th>2</th>\n",
       "      <td>2.027787</td>\n",
       "      <td>1.534278</td>\n",
       "      <td>1.953761</td>\n",
       "      <td>40.846332</td>\n",
       "      <td>-73.877940</td>\n",
       "    </tr>\n",
       "    <tr>\n",
       "      <th>3</th>\n",
       "      <td>2.027787</td>\n",
       "      <td>1.534278</td>\n",
       "      <td>1.953761</td>\n",
       "      <td>40.846332</td>\n",
       "      <td>-73.874774</td>\n",
       "    </tr>\n",
       "    <tr>\n",
       "      <th>4</th>\n",
       "      <td>2.027787</td>\n",
       "      <td>1.534278</td>\n",
       "      <td>1.953761</td>\n",
       "      <td>40.846332</td>\n",
       "      <td>-73.871608</td>\n",
       "    </tr>\n",
       "    <tr>\n",
       "      <th>5</th>\n",
       "      <td>2.027787</td>\n",
       "      <td>1.534278</td>\n",
       "      <td>1.953761</td>\n",
       "      <td>40.848593</td>\n",
       "      <td>-73.881106</td>\n",
       "    </tr>\n",
       "    <tr>\n",
       "      <th>6</th>\n",
       "      <td>2.027787</td>\n",
       "      <td>1.534278</td>\n",
       "      <td>1.953761</td>\n",
       "      <td>40.848593</td>\n",
       "      <td>-73.877940</td>\n",
       "    </tr>\n",
       "    <tr>\n",
       "      <th>7</th>\n",
       "      <td>2.027787</td>\n",
       "      <td>1.534278</td>\n",
       "      <td>1.953761</td>\n",
       "      <td>40.848593</td>\n",
       "      <td>-73.874774</td>\n",
       "    </tr>\n",
       "    <tr>\n",
       "      <th>8</th>\n",
       "      <td>2.027787</td>\n",
       "      <td>1.534278</td>\n",
       "      <td>1.953761</td>\n",
       "      <td>40.848593</td>\n",
       "      <td>-73.871608</td>\n",
       "    </tr>\n",
       "    <tr>\n",
       "      <th>9</th>\n",
       "      <td>2.027787</td>\n",
       "      <td>1.534278</td>\n",
       "      <td>1.953761</td>\n",
       "      <td>40.850854</td>\n",
       "      <td>-73.881106</td>\n",
       "    </tr>\n",
       "    <tr>\n",
       "      <th>10</th>\n",
       "      <td>2.027787</td>\n",
       "      <td>1.534278</td>\n",
       "      <td>1.953761</td>\n",
       "      <td>40.850854</td>\n",
       "      <td>-73.877940</td>\n",
       "    </tr>\n",
       "    <tr>\n",
       "      <th>11</th>\n",
       "      <td>2.027787</td>\n",
       "      <td>1.534278</td>\n",
       "      <td>1.953761</td>\n",
       "      <td>40.850854</td>\n",
       "      <td>-73.874774</td>\n",
       "    </tr>\n",
       "    <tr>\n",
       "      <th>12</th>\n",
       "      <td>2.027787</td>\n",
       "      <td>1.534278</td>\n",
       "      <td>1.953761</td>\n",
       "      <td>40.850854</td>\n",
       "      <td>-73.871608</td>\n",
       "    </tr>\n",
       "    <tr>\n",
       "      <th>13</th>\n",
       "      <td>2.027787</td>\n",
       "      <td>1.534278</td>\n",
       "      <td>1.953761</td>\n",
       "      <td>40.850854</td>\n",
       "      <td>-73.868442</td>\n",
       "    </tr>\n",
       "    <tr>\n",
       "      <th>14</th>\n",
       "      <td>2.027787</td>\n",
       "      <td>1.534278</td>\n",
       "      <td>1.953761</td>\n",
       "      <td>40.853116</td>\n",
       "      <td>-73.881106</td>\n",
       "    </tr>\n",
       "    <tr>\n",
       "      <th>15</th>\n",
       "      <td>2.027787</td>\n",
       "      <td>1.534278</td>\n",
       "      <td>1.953761</td>\n",
       "      <td>40.853116</td>\n",
       "      <td>-73.877940</td>\n",
       "    </tr>\n",
       "    <tr>\n",
       "      <th>16</th>\n",
       "      <td>2.027787</td>\n",
       "      <td>1.534278</td>\n",
       "      <td>1.953761</td>\n",
       "      <td>40.853116</td>\n",
       "      <td>-73.874774</td>\n",
       "    </tr>\n",
       "    <tr>\n",
       "      <th>17</th>\n",
       "      <td>2.027787</td>\n",
       "      <td>1.534278</td>\n",
       "      <td>1.953761</td>\n",
       "      <td>40.853116</td>\n",
       "      <td>-73.871608</td>\n",
       "    </tr>\n",
       "    <tr>\n",
       "      <th>18</th>\n",
       "      <td>2.027787</td>\n",
       "      <td>1.534278</td>\n",
       "      <td>1.953761</td>\n",
       "      <td>40.855377</td>\n",
       "      <td>-73.881106</td>\n",
       "    </tr>\n",
       "    <tr>\n",
       "      <th>19</th>\n",
       "      <td>2.027787</td>\n",
       "      <td>1.534278</td>\n",
       "      <td>1.953761</td>\n",
       "      <td>40.855377</td>\n",
       "      <td>-73.877940</td>\n",
       "    </tr>\n",
       "    <tr>\n",
       "      <th>20</th>\n",
       "      <td>2.027787</td>\n",
       "      <td>1.534278</td>\n",
       "      <td>1.953761</td>\n",
       "      <td>40.855377</td>\n",
       "      <td>-73.874774</td>\n",
       "    </tr>\n",
       "    <tr>\n",
       "      <th>21</th>\n",
       "      <td>2.027787</td>\n",
       "      <td>1.534278</td>\n",
       "      <td>1.953761</td>\n",
       "      <td>40.855377</td>\n",
       "      <td>-73.871608</td>\n",
       "    </tr>\n",
       "    <tr>\n",
       "      <th>22</th>\n",
       "      <td>2.027787</td>\n",
       "      <td>1.534278</td>\n",
       "      <td>1.953761</td>\n",
       "      <td>40.857638</td>\n",
       "      <td>-73.877940</td>\n",
       "    </tr>\n",
       "    <tr>\n",
       "      <th>23</th>\n",
       "      <td>2.027787</td>\n",
       "      <td>1.534278</td>\n",
       "      <td>1.953761</td>\n",
       "      <td>40.857638</td>\n",
       "      <td>-73.874774</td>\n",
       "    </tr>\n",
       "    <tr>\n",
       "      <th>24</th>\n",
       "      <td>2.027787</td>\n",
       "      <td>1.534278</td>\n",
       "      <td>1.953761</td>\n",
       "      <td>40.857638</td>\n",
       "      <td>-73.871608</td>\n",
       "    </tr>\n",
       "    <tr>\n",
       "      <th>25</th>\n",
       "      <td>2.027787</td>\n",
       "      <td>1.534278</td>\n",
       "      <td>1.953761</td>\n",
       "      <td>40.859899</td>\n",
       "      <td>-73.877940</td>\n",
       "    </tr>\n",
       "    <tr>\n",
       "      <th>26</th>\n",
       "      <td>2.027787</td>\n",
       "      <td>1.534278</td>\n",
       "      <td>1.953761</td>\n",
       "      <td>40.859899</td>\n",
       "      <td>-73.874774</td>\n",
       "    </tr>\n",
       "    <tr>\n",
       "      <th>27</th>\n",
       "      <td>2.027787</td>\n",
       "      <td>1.534278</td>\n",
       "      <td>1.953761</td>\n",
       "      <td>40.859899</td>\n",
       "      <td>-73.871608</td>\n",
       "    </tr>\n",
       "    <tr>\n",
       "      <th>28</th>\n",
       "      <td>2.027787</td>\n",
       "      <td>1.534278</td>\n",
       "      <td>1.953761</td>\n",
       "      <td>40.862161</td>\n",
       "      <td>-73.881106</td>\n",
       "    </tr>\n",
       "    <tr>\n",
       "      <th>29</th>\n",
       "      <td>2.027787</td>\n",
       "      <td>1.534278</td>\n",
       "      <td>1.953761</td>\n",
       "      <td>40.862161</td>\n",
       "      <td>-73.877940</td>\n",
       "    </tr>\n",
       "    <tr>\n",
       "      <th>...</th>\n",
       "      <td>...</td>\n",
       "      <td>...</td>\n",
       "      <td>...</td>\n",
       "      <td>...</td>\n",
       "      <td>...</td>\n",
       "    </tr>\n",
       "    <tr>\n",
       "      <th>147190</th>\n",
       "      <td>3.114194</td>\n",
       "      <td>3.262326</td>\n",
       "      <td>3.136414</td>\n",
       "      <td>40.762663</td>\n",
       "      <td>-73.909598</td>\n",
       "    </tr>\n",
       "    <tr>\n",
       "      <th>147191</th>\n",
       "      <td>3.114194</td>\n",
       "      <td>3.262326</td>\n",
       "      <td>3.136414</td>\n",
       "      <td>40.764925</td>\n",
       "      <td>-73.912764</td>\n",
       "    </tr>\n",
       "    <tr>\n",
       "      <th>147192</th>\n",
       "      <td>0.346226</td>\n",
       "      <td>0.615177</td>\n",
       "      <td>0.386568</td>\n",
       "      <td>40.735528</td>\n",
       "      <td>-73.754472</td>\n",
       "    </tr>\n",
       "    <tr>\n",
       "      <th>147193</th>\n",
       "      <td>0.346226</td>\n",
       "      <td>0.615177</td>\n",
       "      <td>0.386568</td>\n",
       "      <td>40.735528</td>\n",
       "      <td>-73.751307</td>\n",
       "    </tr>\n",
       "    <tr>\n",
       "      <th>147194</th>\n",
       "      <td>0.346226</td>\n",
       "      <td>0.615177</td>\n",
       "      <td>0.386568</td>\n",
       "      <td>40.735528</td>\n",
       "      <td>-73.748141</td>\n",
       "    </tr>\n",
       "    <tr>\n",
       "      <th>147195</th>\n",
       "      <td>0.346226</td>\n",
       "      <td>0.615177</td>\n",
       "      <td>0.386568</td>\n",
       "      <td>40.737789</td>\n",
       "      <td>-73.754472</td>\n",
       "    </tr>\n",
       "    <tr>\n",
       "      <th>147196</th>\n",
       "      <td>0.346226</td>\n",
       "      <td>0.615177</td>\n",
       "      <td>0.386568</td>\n",
       "      <td>40.737789</td>\n",
       "      <td>-73.751307</td>\n",
       "    </tr>\n",
       "    <tr>\n",
       "      <th>147197</th>\n",
       "      <td>0.346226</td>\n",
       "      <td>0.615177</td>\n",
       "      <td>0.386568</td>\n",
       "      <td>40.737789</td>\n",
       "      <td>-73.748141</td>\n",
       "    </tr>\n",
       "    <tr>\n",
       "      <th>147198</th>\n",
       "      <td>0.346226</td>\n",
       "      <td>0.615177</td>\n",
       "      <td>0.386568</td>\n",
       "      <td>40.737789</td>\n",
       "      <td>-73.744975</td>\n",
       "    </tr>\n",
       "    <tr>\n",
       "      <th>147199</th>\n",
       "      <td>0.346226</td>\n",
       "      <td>0.615177</td>\n",
       "      <td>0.386568</td>\n",
       "      <td>40.737789</td>\n",
       "      <td>-73.741809</td>\n",
       "    </tr>\n",
       "    <tr>\n",
       "      <th>147200</th>\n",
       "      <td>0.346226</td>\n",
       "      <td>0.615177</td>\n",
       "      <td>0.386568</td>\n",
       "      <td>40.740050</td>\n",
       "      <td>-73.754472</td>\n",
       "    </tr>\n",
       "    <tr>\n",
       "      <th>147201</th>\n",
       "      <td>0.346226</td>\n",
       "      <td>0.615177</td>\n",
       "      <td>0.386568</td>\n",
       "      <td>40.740050</td>\n",
       "      <td>-73.751307</td>\n",
       "    </tr>\n",
       "    <tr>\n",
       "      <th>147202</th>\n",
       "      <td>0.346226</td>\n",
       "      <td>0.615177</td>\n",
       "      <td>0.386568</td>\n",
       "      <td>40.740050</td>\n",
       "      <td>-73.748141</td>\n",
       "    </tr>\n",
       "    <tr>\n",
       "      <th>147203</th>\n",
       "      <td>0.346226</td>\n",
       "      <td>0.615177</td>\n",
       "      <td>0.386568</td>\n",
       "      <td>40.740050</td>\n",
       "      <td>-73.744975</td>\n",
       "    </tr>\n",
       "    <tr>\n",
       "      <th>147204</th>\n",
       "      <td>4.766810</td>\n",
       "      <td>4.443908</td>\n",
       "      <td>4.718374</td>\n",
       "      <td>40.663166</td>\n",
       "      <td>-73.941256</td>\n",
       "    </tr>\n",
       "    <tr>\n",
       "      <th>147205</th>\n",
       "      <td>4.766810</td>\n",
       "      <td>4.443908</td>\n",
       "      <td>4.718374</td>\n",
       "      <td>40.663166</td>\n",
       "      <td>-73.938090</td>\n",
       "    </tr>\n",
       "    <tr>\n",
       "      <th>147206</th>\n",
       "      <td>1.351200</td>\n",
       "      <td>2.510513</td>\n",
       "      <td>1.525096</td>\n",
       "      <td>40.615678</td>\n",
       "      <td>-73.972915</td>\n",
       "    </tr>\n",
       "    <tr>\n",
       "      <th>147207</th>\n",
       "      <td>1.351200</td>\n",
       "      <td>2.510513</td>\n",
       "      <td>1.525096</td>\n",
       "      <td>40.615678</td>\n",
       "      <td>-73.969749</td>\n",
       "    </tr>\n",
       "    <tr>\n",
       "      <th>147208</th>\n",
       "      <td>1.351200</td>\n",
       "      <td>2.510513</td>\n",
       "      <td>1.525096</td>\n",
       "      <td>40.615678</td>\n",
       "      <td>-73.966583</td>\n",
       "    </tr>\n",
       "    <tr>\n",
       "      <th>147209</th>\n",
       "      <td>2.453192</td>\n",
       "      <td>2.096371</td>\n",
       "      <td>2.399669</td>\n",
       "      <td>40.665427</td>\n",
       "      <td>-73.881106</td>\n",
       "    </tr>\n",
       "    <tr>\n",
       "      <th>147210</th>\n",
       "      <td>2.453192</td>\n",
       "      <td>2.096371</td>\n",
       "      <td>2.399669</td>\n",
       "      <td>40.667688</td>\n",
       "      <td>-73.881106</td>\n",
       "    </tr>\n",
       "    <tr>\n",
       "      <th>147211</th>\n",
       "      <td>2.249461</td>\n",
       "      <td>1.959499</td>\n",
       "      <td>2.205967</td>\n",
       "      <td>40.884774</td>\n",
       "      <td>-73.852613</td>\n",
       "    </tr>\n",
       "    <tr>\n",
       "      <th>147212</th>\n",
       "      <td>2.249461</td>\n",
       "      <td>1.959499</td>\n",
       "      <td>2.205967</td>\n",
       "      <td>40.884774</td>\n",
       "      <td>-73.849447</td>\n",
       "    </tr>\n",
       "    <tr>\n",
       "      <th>147213</th>\n",
       "      <td>2.249461</td>\n",
       "      <td>1.959499</td>\n",
       "      <td>2.205967</td>\n",
       "      <td>40.887035</td>\n",
       "      <td>-73.852613</td>\n",
       "    </tr>\n",
       "    <tr>\n",
       "      <th>147214</th>\n",
       "      <td>2.249461</td>\n",
       "      <td>1.959499</td>\n",
       "      <td>2.205967</td>\n",
       "      <td>40.887035</td>\n",
       "      <td>-73.849447</td>\n",
       "    </tr>\n",
       "    <tr>\n",
       "      <th>147215</th>\n",
       "      <td>2.052145</td>\n",
       "      <td>1.671769</td>\n",
       "      <td>1.995088</td>\n",
       "      <td>40.645075</td>\n",
       "      <td>-73.890603</td>\n",
       "    </tr>\n",
       "    <tr>\n",
       "      <th>147216</th>\n",
       "      <td>2.052145</td>\n",
       "      <td>1.671769</td>\n",
       "      <td>1.995088</td>\n",
       "      <td>40.647337</td>\n",
       "      <td>-73.893769</td>\n",
       "    </tr>\n",
       "    <tr>\n",
       "      <th>147217</th>\n",
       "      <td>1.706936</td>\n",
       "      <td>1.787641</td>\n",
       "      <td>1.719042</td>\n",
       "      <td>40.708392</td>\n",
       "      <td>-73.833618</td>\n",
       "    </tr>\n",
       "    <tr>\n",
       "      <th>147218</th>\n",
       "      <td>1.706936</td>\n",
       "      <td>1.787641</td>\n",
       "      <td>1.719042</td>\n",
       "      <td>40.710653</td>\n",
       "      <td>-73.830452</td>\n",
       "    </tr>\n",
       "    <tr>\n",
       "      <th>147219</th>\n",
       "      <td>2.788759</td>\n",
       "      <td>3.020129</td>\n",
       "      <td>2.823465</td>\n",
       "      <td>40.667688</td>\n",
       "      <td>-73.950754</td>\n",
       "    </tr>\n",
       "  </tbody>\n",
       "</table>\n",
       "<p>147220 rows × 5 columns</p>\n",
       "</div>"
      ],
      "text/plain": [
       "               y        yc        ys   Latitude  Longitude\n",
       "0       2.027787  1.534278  1.953761  40.841809 -73.874774\n",
       "1       2.027787  1.534278  1.953761  40.844070 -73.874774\n",
       "2       2.027787  1.534278  1.953761  40.846332 -73.877940\n",
       "3       2.027787  1.534278  1.953761  40.846332 -73.874774\n",
       "4       2.027787  1.534278  1.953761  40.846332 -73.871608\n",
       "...          ...       ...       ...        ...        ...\n",
       "147215  2.052145  1.671769  1.995088  40.645075 -73.890603\n",
       "147216  2.052145  1.671769  1.995088  40.647337 -73.893769\n",
       "147217  1.706936  1.787641  1.719042  40.708392 -73.833618\n",
       "147218  1.706936  1.787641  1.719042  40.710653 -73.830452\n",
       "147219  2.788759  3.020129  2.823465  40.667688 -73.950754\n",
       "\n",
       "[147220 rows x 5 columns]"
      ]
     },
     "execution_count": 58,
     "metadata": {},
     "output_type": "execute_result"
    }
   ],
   "source": [
    "block_data = pd.read_csv(\"census_block_loc.csv\")\n",
    "tracts = block_data[\"BlockCode\"]\n",
    "tracts = [int(str(tract)[:-4]) for tract in tracts]\n",
    "block_data[\"tracts\"]=tracts\n",
    "X['y']=y\n",
    "X['ys']=ys\n",
    "X['yc']=yc\n",
    "X = X[['CensusTract','y','yc','ys']]\n",
    "X = pd.merge(left=X, right=block_data, left_on=\"CensusTract\", right_on=\"tracts\")\n",
    "X = X.drop(columns=[\"BlockCode\",\"County\",\"State\",\"CensusTract\",\"tracts\"])\n",
    "X"
   ]
  },
  {
   "cell_type": "markdown",
   "metadata": {},
   "source": [
    "# Visualize Smoothing"
   ]
  },
  {
   "cell_type": "code",
   "execution_count": 59,
   "metadata": {},
   "outputs": [
    {
     "ename": "NameError",
     "evalue": "name 'sample' is not defined",
     "output_type": "error",
     "traceback": [
      "\u001b[0;31m---------------------------------------------------------------------------\u001b[0m",
      "\u001b[0;31mNameError\u001b[0m                                 Traceback (most recent call last)",
      "\u001b[0;32m<ipython-input-59-ebf185c0a773>\u001b[0m in \u001b[0;36m<module>\u001b[0;34m\u001b[0m\n\u001b[1;32m      4\u001b[0m \u001b[0;32mimport\u001b[0m \u001b[0mgmaps\u001b[0m\u001b[0;34m\u001b[0m\u001b[0;34m\u001b[0m\u001b[0m\n\u001b[1;32m      5\u001b[0m \u001b[0;34m\u001b[0m\u001b[0m\n\u001b[0;32m----> 6\u001b[0;31m \u001b[0mlocations\u001b[0m \u001b[0;34m=\u001b[0m \u001b[0msample\u001b[0m\u001b[0;34m[\u001b[0m\u001b[0;34m[\u001b[0m\u001b[0;34m'latitude'\u001b[0m\u001b[0;34m,\u001b[0m\u001b[0;34m'longitude'\u001b[0m\u001b[0;34m]\u001b[0m\u001b[0;34m]\u001b[0m\u001b[0;34m\u001b[0m\u001b[0;34m\u001b[0m\u001b[0m\n\u001b[0m\u001b[1;32m      7\u001b[0m \u001b[0mweights\u001b[0m \u001b[0;34m=\u001b[0m \u001b[0msample\u001b[0m\u001b[0;34m[\u001b[0m\u001b[0;34m'weight'\u001b[0m\u001b[0;34m]\u001b[0m\u001b[0;34m\u001b[0m\u001b[0;34m\u001b[0m\u001b[0m\n\u001b[1;32m      8\u001b[0m \u001b[0;34m\u001b[0m\u001b[0m\n",
      "\u001b[0;31mNameError\u001b[0m: name 'sample' is not defined"
     ]
    }
   ],
   "source": [
    "#put in visuals here from the dataset \"block_data\"\n",
    "#real data will be replaced when Erik figures out the proper way to do the smoothing\n",
    "\n",
    "import gmaps\n",
    "\n",
    "locations = sample[['latitude','longitude']]\n",
    "weights = sample['weight']\n",
    "\n",
    "coords = (40.75, -74.00)\n",
    "fig = gmaps.figure(center = coords, zoom_level = 12)\n",
    "fig.add_layer(gmaps.heatmap_layer(locations, weights=weights))\n",
    "fig"
   ]
  }
 ],
 "metadata": {
  "kernelspec": {
   "display_name": "Python 3",
   "language": "python",
   "name": "python3"
  },
  "language_info": {
   "codemirror_mode": {
    "name": "ipython",
    "version": 3
   },
   "file_extension": ".py",
   "mimetype": "text/x-python",
   "name": "python",
   "nbconvert_exporter": "python",
   "pygments_lexer": "ipython3",
   "version": "3.6.9"
  }
 },
 "nbformat": 4,
 "nbformat_minor": 2
}
