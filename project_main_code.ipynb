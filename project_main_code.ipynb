{
 "cells": [
  {
   "cell_type": "markdown",
   "metadata": {},
   "source": [
    "# Imports"
   ]
  },
  {
   "cell_type": "code",
   "execution_count": 1,
   "metadata": {},
   "outputs": [
    {
     "name": "stderr",
     "output_type": "stream",
     "text": [
      "Using TensorFlow backend.\n"
     ]
    }
   ],
   "source": [
    "%matplotlib inline\n",
    "import matplotlib.pyplot as plt\n",
    "import numpy as np\n",
    "np.random.seed(42)#set  random seed for reproducability\n",
    "import pandas as pd\n",
    "import re\n",
    "from sklearn.model_selection import train_test_split\n",
    "from sklearn.svm import SVR\n",
    "from sklearn.ensemble import RandomForestRegressor\n",
    "from sklearn.preprocessing import LabelEncoder\n",
    "from sklearn.preprocessing import StandardScaler\n",
    "from sklearn.metrics import mean_squared_error\n",
    "from sklearn.metrics import mean_absolute_error\n",
    "from sklearn.model_selection import cross_val_score\n",
    "from sklearn.model_selection import RandomizedSearchCV\n",
    "from scipy.stats import uniform\n",
    "from keras.models import Sequential\n",
    "from keras.layers import Dense\n",
    "import gmaps"
   ]
  },
  {
   "cell_type": "markdown",
   "metadata": {},
   "source": [
    "# Load Data and Merge"
   ]
  },
  {
   "cell_type": "code",
   "execution_count": 3,
   "metadata": {},
   "outputs": [
    {
     "name": "stderr",
     "output_type": "stream",
     "text": [
      "C:\\Users\\TestAccount\\Miniconda3\\lib\\site-packages\\ipykernel_launcher.py:2: SettingWithCopyWarning: \n",
      "A value is trying to be set on a copy of a slice from a DataFrame\n",
      "\n",
      "See the caveats in the documentation: http://pandas.pydata.org/pandas-docs/stable/user_guide/indexing.html#returning-a-view-versus-a-copy\n",
      "  \n",
      "C:\\Users\\TestAccount\\Miniconda3\\lib\\site-packages\\ipykernel_launcher.py:3: SettingWithCopyWarning: \n",
      "A value is trying to be set on a copy of a slice from a DataFrame\n",
      "\n",
      "See the caveats in the documentation: http://pandas.pydata.org/pandas-docs/stable/user_guide/indexing.html#returning-a-view-versus-a-copy\n",
      "  This is separate from the ipykernel package so we can avoid doing imports until\n"
     ]
    }
   ],
   "source": [
    "arrest_data = pd.read_csv(\"arrests_w_census_loc.csv\")\n",
    "arrest_data.PERP_RACE[arrest_data.PERP_RACE.str.contains(\"WHITE\")]=0\n",
    "arrest_data.PERP_RACE[arrest_data.PERP_RACE != 0]=1\n",
    "arrest_data = arrest_data.groupby([\"PERP_RACE\",\"BlockLocation\"]).size().reset_index(name='counts')\n",
    "blockLocation = arrest_data[\"BlockLocation\"]\n",
    "blockLat = [float(re.findall(r'[-\\d\\.]+', bl)[0]) for bl in blockLocation]\n",
    "blockLon = [float(re.findall(r'[-\\d\\.]+', bl)[1]) for bl in blockLocation]\n",
    "arrest_data[\"blockLat\"]=blockLat\n",
    "arrest_data[\"blockLon\"]=blockLon\n",
    "arrest_data = arrest_data.drop(\"BlockLocation\", axis=1)\n",
    "arrest_data = arrest_data.rename(columns={\"counts\": \"Num_Arrests\", \"PERP_RACE\": \"Race\"})\n",
    "block_data = pd.read_csv(\"census_block_loc.csv\")\n",
    "block_data = pd.merge(left=arrest_data, right=block_data,\n",
    "                      left_on=[\"blockLat\",\"blockLon\"], right_on=[\"Latitude\",\"Longitude\"])\n",
    "census_data = pd.read_csv(\"nyc_census_tracts.csv\")\n",
    "tracts = block_data[\"BlockCode\"]\n",
    "tracts = [int(str(tract)[:-4]) for tract in tracts]\n",
    "block_data[\"tracts\"]=tracts\n",
    "block_data = block_data.drop(columns=[\"Latitude\",\"Longitude\",\"BlockCode\",\"County\",\"blockLat\",\"blockLon\"])\n",
    "data = pd.merge(left=block_data, right=census_data, left_on=\"tracts\", right_on=\"CensusTract\")\n",
    "data = data.drop(\"tracts\", axis=1)\n",
    "data = data.drop(\"State\", axis=1)"
   ]
  },
  {
   "cell_type": "markdown",
   "metadata": {},
   "source": [
    "# Remove Outlier Locations"
   ]
  },
  {
   "cell_type": "code",
   "execution_count": 4,
   "metadata": {},
   "outputs": [
    {
     "name": "stdout",
     "output_type": "stream",
     "text": [
      "There are 11341 Samples Before Outlier Removal\n"
     ]
    },
    {
     "data": {
      "image/png": "[encoded data removed]",
      "text/plain": [
       "<Figure size 432x288 with 1 Axes>"
      ]
     },
     "metadata": {
      "needs_background": "light"
     },
     "output_type": "display_data"
    },
    {
     "name": "stdout",
     "output_type": "stream",
     "text": [
      "There are 11021 Samples After Outlier Removal\n"
     ]
    },
    {
     "data": {
      "image/png": "[encoded data removed]",
      "text/plain": [
       "<Figure size 432x288 with 1 Axes>"
      ]
     },
     "metadata": {
      "needs_background": "light"
     },
     "output_type": "display_data"
    },
    {
     "name": "stdout",
     "output_type": "stream",
     "text": [
      "97.1783793316286% of Samples were Kept\n"
     ]
    }
   ],
   "source": [
    "data[\"Num_Arrests\"].hist(bins='auto')\n",
    "data_size=data.shape[0]\n",
    "print(\"There are\",data_size,\"Samples Before Outlier Removal\")\n",
    "plt.show()\n",
    "data = data[data[\"Num_Arrests\"]<50]\n",
    "new_size=data.shape[0]\n",
    "print(\"There are\",new_size,\"Samples After Outlier Removal\")\n",
    "data[\"Num_Arrests\"].hist(bins='auto')\n",
    "plt.show()\n",
    "print(100*new_size/data_size,\"% of Samples were Kept\",sep=\"\")"
   ]
  },
  {
   "cell_type": "markdown",
   "metadata": {},
   "source": [
    "# Create Data Aggregates by County"
   ]
  },
  {
   "cell_type": "code",
   "execution_count": 5,
   "metadata": {},
   "outputs": [],
   "source": [
    "def agg_all(data):\n",
    "    new_data = {}\n",
    "    for colname in ['Num_Arrests','TotalPop','Men','Women','Citizen','Income','IncomeErr', 'Employed']:\n",
    "        new_data[colname]=data[colname].sum()\n",
    "    for colname in ['Hispanic', 'White', 'Black', 'Native', 'Asian','IncomePerCap','IncomePerCapErr','Poverty', 'ChildPoverty', 'Professional', 'Service', 'Office',\n",
    "            'Construction', 'Production', 'Drive', 'Carpool', 'Transit', 'Walk','OtherTransp', 'WorkAtHome',\n",
    "           'MeanCommute','PrivateWork','PublicWork','SelfEmployed','FamilyWork','Unemployment']:\n",
    "        ratio = data[colname]*data['TotalPop']\n",
    "        new_data[colname]=(ratio.sum()/100)/data.size\n",
    "    return pd.Series(new_data)\n",
    "\n",
    "agg_data = data.groupby(['County','Race']).apply(agg_all)"
   ]
  },
  {
   "cell_type": "markdown",
   "metadata": {},
   "source": [
    "# Attatch Aggregate to Data"
   ]
  },
  {
   "cell_type": "code",
   "execution_count": 7,
   "metadata": {},
   "outputs": [
    {
     "ename": "KeyError",
     "evalue": "'Num_Arrests'",
     "output_type": "error",
     "traceback": [
      "\u001b[1;31m---------------------------------------------------------------------------\u001b[0m",
      "\u001b[1;31mKeyError\u001b[0m                                  Traceback (most recent call last)",
      "\u001b[1;32m~\\Miniconda3\\lib\\site-packages\\pandas\\core\\indexes\\base.py\u001b[0m in \u001b[0;36mget_loc\u001b[1;34m(self, key, method, tolerance)\u001b[0m\n\u001b[0;32m   2896\u001b[0m             \u001b[1;32mtry\u001b[0m\u001b[1;33m:\u001b[0m\u001b[1;33m\u001b[0m\u001b[1;33m\u001b[0m\u001b[0m\n\u001b[1;32m-> 2897\u001b[1;33m                 \u001b[1;32mreturn\u001b[0m \u001b[0mself\u001b[0m\u001b[1;33m.\u001b[0m\u001b[0m_engine\u001b[0m\u001b[1;33m.\u001b[0m\u001b[0mget_loc\u001b[0m\u001b[1;33m(\u001b[0m\u001b[0mkey\u001b[0m\u001b[1;33m)\u001b[0m\u001b[1;33m\u001b[0m\u001b[1;33m\u001b[0m\u001b[0m\n\u001b[0m\u001b[0;32m   2898\u001b[0m             \u001b[1;32mexcept\u001b[0m \u001b[0mKeyError\u001b[0m\u001b[1;33m:\u001b[0m\u001b[1;33m\u001b[0m\u001b[1;33m\u001b[0m\u001b[0m\n",
      "\u001b[1;32mpandas/_libs/index.pyx\u001b[0m in \u001b[0;36mpandas._libs.index.IndexEngine.get_loc\u001b[1;34m()\u001b[0m\n",
      "\u001b[1;32mpandas/_libs/index.pyx\u001b[0m in \u001b[0;36mpandas._libs.index.IndexEngine.get_loc\u001b[1;34m()\u001b[0m\n",
      "\u001b[1;32mpandas/_libs/hashtable_class_helper.pxi\u001b[0m in \u001b[0;36mpandas._libs.hashtable.PyObjectHashTable.get_item\u001b[1;34m()\u001b[0m\n",
      "\u001b[1;32mpandas/_libs/hashtable_class_helper.pxi\u001b[0m in \u001b[0;36mpandas._libs.hashtable.PyObjectHashTable.get_item\u001b[1;34m()\u001b[0m\n",
      "\u001b[1;31mKeyError\u001b[0m: 'Num_Arrests'",
      "\nDuring handling of the above exception, another exception occurred:\n",
      "\u001b[1;31mKeyError\u001b[0m                                  Traceback (most recent call last)",
      "\u001b[1;32m<ipython-input-7-b920d0da76d6>\u001b[0m in \u001b[0;36m<module>\u001b[1;34m\u001b[0m\n\u001b[1;32m----> 1\u001b[1;33m \u001b[0magg_data\u001b[0m\u001b[1;33m[\u001b[0m\u001b[1;34m\"arrest_ratio\"\u001b[0m\u001b[1;33m]\u001b[0m\u001b[1;33m=\u001b[0m\u001b[0magg_data\u001b[0m\u001b[1;33m[\u001b[0m\u001b[1;34m\"Num_Arrests\"\u001b[0m\u001b[1;33m]\u001b[0m\u001b[1;33m/\u001b[0m\u001b[0magg_data\u001b[0m\u001b[1;33m[\u001b[0m\u001b[1;34m\"TotalPop\"\u001b[0m\u001b[1;33m]\u001b[0m\u001b[1;33m\u001b[0m\u001b[1;33m\u001b[0m\u001b[0m\n\u001b[0m\u001b[0;32m      2\u001b[0m \u001b[0marrest_ratio\u001b[0m \u001b[1;33m=\u001b[0m \u001b[0mlist\u001b[0m\u001b[1;33m(\u001b[0m\u001b[0magg_data\u001b[0m\u001b[1;33m[\u001b[0m\u001b[1;34m\"arrest_ratio\"\u001b[0m\u001b[1;33m]\u001b[0m\u001b[1;33m)\u001b[0m\u001b[1;33m\u001b[0m\u001b[1;33m\u001b[0m\u001b[0m\n\u001b[0;32m      3\u001b[0m \u001b[0mcounty\u001b[0m \u001b[1;33m=\u001b[0m \u001b[0mlist\u001b[0m\u001b[1;33m(\u001b[0m\u001b[0magg_data\u001b[0m\u001b[1;33m.\u001b[0m\u001b[0mindex\u001b[0m\u001b[1;33m.\u001b[0m\u001b[0mget_level_values\u001b[0m\u001b[1;33m(\u001b[0m\u001b[1;36m0\u001b[0m\u001b[1;33m)\u001b[0m\u001b[1;33m)\u001b[0m\u001b[1;33m\u001b[0m\u001b[1;33m\u001b[0m\u001b[0m\n\u001b[0;32m      4\u001b[0m \u001b[0mrace\u001b[0m \u001b[1;33m=\u001b[0m \u001b[0mlist\u001b[0m\u001b[1;33m(\u001b[0m\u001b[0magg_data\u001b[0m\u001b[1;33m.\u001b[0m\u001b[0mindex\u001b[0m\u001b[1;33m.\u001b[0m\u001b[0mget_level_values\u001b[0m\u001b[1;33m(\u001b[0m\u001b[1;36m1\u001b[0m\u001b[1;33m)\u001b[0m\u001b[1;33m)\u001b[0m\u001b[1;33m\u001b[0m\u001b[1;33m\u001b[0m\u001b[0m\n\u001b[0;32m      5\u001b[0m \u001b[0magg_data\u001b[0m \u001b[1;33m=\u001b[0m \u001b[0mpd\u001b[0m\u001b[1;33m.\u001b[0m\u001b[0mDataFrame\u001b[0m\u001b[1;33m(\u001b[0m\u001b[0marrest_ratio\u001b[0m\u001b[1;33m,\u001b[0m \u001b[0mcolumns\u001b[0m\u001b[1;33m=\u001b[0m\u001b[1;33m[\u001b[0m\u001b[1;34m\"arrest_ratio\"\u001b[0m\u001b[1;33m]\u001b[0m\u001b[1;33m)\u001b[0m\u001b[1;33m\u001b[0m\u001b[1;33m\u001b[0m\u001b[0m\n",
      "\u001b[1;32m~\\Miniconda3\\lib\\site-packages\\pandas\\core\\frame.py\u001b[0m in \u001b[0;36m__getitem__\u001b[1;34m(self, key)\u001b[0m\n\u001b[0;32m   2993\u001b[0m             \u001b[1;32mif\u001b[0m \u001b[0mself\u001b[0m\u001b[1;33m.\u001b[0m\u001b[0mcolumns\u001b[0m\u001b[1;33m.\u001b[0m\u001b[0mnlevels\u001b[0m \u001b[1;33m>\u001b[0m \u001b[1;36m1\u001b[0m\u001b[1;33m:\u001b[0m\u001b[1;33m\u001b[0m\u001b[1;33m\u001b[0m\u001b[0m\n\u001b[0;32m   2994\u001b[0m                 \u001b[1;32mreturn\u001b[0m \u001b[0mself\u001b[0m\u001b[1;33m.\u001b[0m\u001b[0m_getitem_multilevel\u001b[0m\u001b[1;33m(\u001b[0m\u001b[0mkey\u001b[0m\u001b[1;33m)\u001b[0m\u001b[1;33m\u001b[0m\u001b[1;33m\u001b[0m\u001b[0m\n\u001b[1;32m-> 2995\u001b[1;33m             \u001b[0mindexer\u001b[0m \u001b[1;33m=\u001b[0m \u001b[0mself\u001b[0m\u001b[1;33m.\u001b[0m\u001b[0mcolumns\u001b[0m\u001b[1;33m.\u001b[0m\u001b[0mget_loc\u001b[0m\u001b[1;33m(\u001b[0m\u001b[0mkey\u001b[0m\u001b[1;33m)\u001b[0m\u001b[1;33m\u001b[0m\u001b[1;33m\u001b[0m\u001b[0m\n\u001b[0m\u001b[0;32m   2996\u001b[0m             \u001b[1;32mif\u001b[0m \u001b[0mis_integer\u001b[0m\u001b[1;33m(\u001b[0m\u001b[0mindexer\u001b[0m\u001b[1;33m)\u001b[0m\u001b[1;33m:\u001b[0m\u001b[1;33m\u001b[0m\u001b[1;33m\u001b[0m\u001b[0m\n\u001b[0;32m   2997\u001b[0m                 \u001b[0mindexer\u001b[0m \u001b[1;33m=\u001b[0m \u001b[1;33m[\u001b[0m\u001b[0mindexer\u001b[0m\u001b[1;33m]\u001b[0m\u001b[1;33m\u001b[0m\u001b[1;33m\u001b[0m\u001b[0m\n",
      "\u001b[1;32m~\\Miniconda3\\lib\\site-packages\\pandas\\core\\indexes\\base.py\u001b[0m in \u001b[0;36mget_loc\u001b[1;34m(self, key, method, tolerance)\u001b[0m\n\u001b[0;32m   2897\u001b[0m                 \u001b[1;32mreturn\u001b[0m \u001b[0mself\u001b[0m\u001b[1;33m.\u001b[0m\u001b[0m_engine\u001b[0m\u001b[1;33m.\u001b[0m\u001b[0mget_loc\u001b[0m\u001b[1;33m(\u001b[0m\u001b[0mkey\u001b[0m\u001b[1;33m)\u001b[0m\u001b[1;33m\u001b[0m\u001b[1;33m\u001b[0m\u001b[0m\n\u001b[0;32m   2898\u001b[0m             \u001b[1;32mexcept\u001b[0m \u001b[0mKeyError\u001b[0m\u001b[1;33m:\u001b[0m\u001b[1;33m\u001b[0m\u001b[1;33m\u001b[0m\u001b[0m\n\u001b[1;32m-> 2899\u001b[1;33m                 \u001b[1;32mreturn\u001b[0m \u001b[0mself\u001b[0m\u001b[1;33m.\u001b[0m\u001b[0m_engine\u001b[0m\u001b[1;33m.\u001b[0m\u001b[0mget_loc\u001b[0m\u001b[1;33m(\u001b[0m\u001b[0mself\u001b[0m\u001b[1;33m.\u001b[0m\u001b[0m_maybe_cast_indexer\u001b[0m\u001b[1;33m(\u001b[0m\u001b[0mkey\u001b[0m\u001b[1;33m)\u001b[0m\u001b[1;33m)\u001b[0m\u001b[1;33m\u001b[0m\u001b[1;33m\u001b[0m\u001b[0m\n\u001b[0m\u001b[0;32m   2900\u001b[0m         \u001b[0mindexer\u001b[0m \u001b[1;33m=\u001b[0m \u001b[0mself\u001b[0m\u001b[1;33m.\u001b[0m\u001b[0mget_indexer\u001b[0m\u001b[1;33m(\u001b[0m\u001b[1;33m[\u001b[0m\u001b[0mkey\u001b[0m\u001b[1;33m]\u001b[0m\u001b[1;33m,\u001b[0m \u001b[0mmethod\u001b[0m\u001b[1;33m=\u001b[0m\u001b[0mmethod\u001b[0m\u001b[1;33m,\u001b[0m \u001b[0mtolerance\u001b[0m\u001b[1;33m=\u001b[0m\u001b[0mtolerance\u001b[0m\u001b[1;33m)\u001b[0m\u001b[1;33m\u001b[0m\u001b[1;33m\u001b[0m\u001b[0m\n\u001b[0;32m   2901\u001b[0m         \u001b[1;32mif\u001b[0m \u001b[0mindexer\u001b[0m\u001b[1;33m.\u001b[0m\u001b[0mndim\u001b[0m \u001b[1;33m>\u001b[0m \u001b[1;36m1\u001b[0m \u001b[1;32mor\u001b[0m \u001b[0mindexer\u001b[0m\u001b[1;33m.\u001b[0m\u001b[0msize\u001b[0m \u001b[1;33m>\u001b[0m \u001b[1;36m1\u001b[0m\u001b[1;33m:\u001b[0m\u001b[1;33m\u001b[0m\u001b[1;33m\u001b[0m\u001b[0m\n",
      "\u001b[1;32mpandas/_libs/index.pyx\u001b[0m in \u001b[0;36mpandas._libs.index.IndexEngine.get_loc\u001b[1;34m()\u001b[0m\n",
      "\u001b[1;32mpandas/_libs/index.pyx\u001b[0m in \u001b[0;36mpandas._libs.index.IndexEngine.get_loc\u001b[1;34m()\u001b[0m\n",
      "\u001b[1;32mpandas/_libs/hashtable_class_helper.pxi\u001b[0m in \u001b[0;36mpandas._libs.hashtable.PyObjectHashTable.get_item\u001b[1;34m()\u001b[0m\n",
      "\u001b[1;32mpandas/_libs/hashtable_class_helper.pxi\u001b[0m in \u001b[0;36mpandas._libs.hashtable.PyObjectHashTable.get_item\u001b[1;34m()\u001b[0m\n",
      "\u001b[1;31mKeyError\u001b[0m: 'Num_Arrests'"
     ]
    }
   ],
   "source": [
    "agg_data[\"arrest_ratio\"]=agg_data[\"Num_Arrests\"]/agg_data[\"TotalPop\"]\n",
    "arrest_ratio = list(agg_data[\"arrest_ratio\"])\n",
    "county = list(agg_data.index.get_level_values(0))\n",
    "race = list(agg_data.index.get_level_values(1))\n",
    "agg_data = pd.DataFrame(arrest_ratio, columns=[\"arrest_ratio\"])\n",
    "agg_data[\"County\"]=county\n",
    "agg_data[\"Race\"]=race\n",
    "data = pd.merge(data, agg_data, on=[\"County\",\"Race\"])\n",
    "data[\"County_Num_Arrests\"]=data[\"arrest_ratio\"]*data[\"TotalPop\"]\n",
    "data = data.drop(\"arrest_ratio\", axis=1)"
   ]
  },
  {
   "cell_type": "markdown",
   "metadata": {},
   "source": [
    "# Apply Z Scaling to Continuous Features"
   ]
  },
  {
   "cell_type": "code",
   "execution_count": 8,
   "metadata": {},
   "outputs": [],
   "source": [
    "num_cols = ['TotalPop','Men','Women','Hispanic','White','Black','Native','Asian','Citizen','Income','IncomeErr','IncomePerCap','IncomePerCapErr','Poverty','ChildPoverty','Professional','Service','Office','Construction','Production','Drive','Carpool','Transit','Walk','OtherTransp','WorkAtHome','MeanCommute','Employed','PrivateWork','PublicWork','SelfEmployed','FamilyWork','Unemployment']\n",
    "X = data[num_cols].values\n",
    "data.drop(columns=num_cols)\n",
    "scaler = StandardScaler()\n",
    "X = scaler.fit_transform(X)\n",
    "num_data = pd.DataFrame(X, columns=num_cols)\n",
    "data[num_cols]=num_data\n",
    "data = data.dropna()"
   ]
  },
  {
   "cell_type": "markdown",
   "metadata": {},
   "source": [
    "# Split Data by Race and Into Train/Test Datasets"
   ]
  },
  {
   "cell_type": "code",
   "execution_count": 9,
   "metadata": {},
   "outputs": [],
   "source": [
    "cols = data.shape[1]\n",
    "data_white = data[data[\"Race\"]==0].drop(\"Race\", axis=1)\n",
    "data_non_white=data[data[\"Race\"]==1].drop(\"Race\", axis=1)\n",
    "data_white_train = data_white.sample(frac=0.8,random_state=101)\n",
    "data_white_test  = data_white.drop(data_white_train.index)\n",
    "data_non_white_train = data_non_white.sample(frac=0.8,random_state=101)\n",
    "data_non_white_test  = data_non_white.drop(data_non_white_train.index)\n",
    "Xw = data_white_train.iloc[:,1:cols]\n",
    "yw = data_white_train.iloc[:,0]\n",
    "Xnw = data_non_white_train.iloc[:,1:cols]\n",
    "ynw = data_non_white_train.iloc[:,0]\n",
    "Xwt = data_white_test.iloc[:,1:cols]\n",
    "ywt = data_white_test.iloc[:,0]\n",
    "Xnwt = data_non_white_test.iloc[:,1:cols]\n",
    "ynwt = data_non_white_test.iloc[:,0]"
   ]
  },
  {
   "cell_type": "markdown",
   "metadata": {},
   "source": [
    "# Encode Categorical Features as Numerical Values"
   ]
  },
  {
   "cell_type": "code",
   "execution_count": 10,
   "metadata": {},
   "outputs": [],
   "source": [
    "cat_cols = ['County','Borough']\n",
    "encoder = LabelEncoder()\n",
    "for var in cat_cols:\n",
    "    Xw[var] = encoder.fit_transform(Xw[var])\n",
    "    Xnw[var] = encoder.fit_transform(Xnw[var])\n",
    "    Xwt[var] = encoder.fit_transform(Xwt[var])\n",
    "    Xnwt[var] = encoder.fit_transform(Xnwt[var])"
   ]
  },
  {
   "cell_type": "markdown",
   "metadata": {},
   "source": [
    "# Initial Test of Nonlinear Kernels"
   ]
  },
  {
   "cell_type": "code",
   "execution_count": null,
   "metadata": {},
   "outputs": [],
   "source": [
    "rbfw = SVR(gamma='scale',kernel='rbf')\n",
    "cv = cross_val_score(rbfw, Xw, yw, cv=50, scoring=\"neg_mean_squared_error\")\n",
    "print(\"The average MSE for White RBF is\",-sum(cv)/len(cv))\n",
    "\n",
    "rbfnw = SVR(gamma='scale',kernel='rbf')\n",
    "cv = cross_val_score(rbfnw, Xnw, ynw, cv=50, scoring=\"neg_mean_squared_error\")\n",
    "print(\"The average MSE for Non-White RBF is\",-sum(cv)/len(cv))\n",
    "\n",
    "polyw = SVR(gamma='scale',kernel='poly')\n",
    "cv = cross_val_score(polyw, Xw, yw, cv=50, scoring=\"neg_mean_squared_error\")\n",
    "print(\"The average MSE for White Polynomial is\",-sum(cv)/len(cv))\n",
    "\n",
    "polynw = SVR(gamma='scale',kernel='poly')\n",
    "cv = cross_val_score(polynw, Xnw, ynw, cv=50, scoring=\"neg_mean_squared_error\")\n",
    "print(\"The average MSE for Non-White Polynomial is\",-sum(cv)/len(cv))"
   ]
  },
  {
   "cell_type": "markdown",
   "metadata": {},
   "source": [
    "# Random Search to Tune Hyperparameters"
   ]
  },
  {
   "cell_type": "code",
   "execution_count": null,
   "metadata": {},
   "outputs": [],
   "source": [
    "params = {\"C\":[0.1,0.5,1,5,10,50,100,500,1000],\"epsilon\":uniform(1,3),\"kernel\":[\"poly\",\"rbf\"]}\n",
    "\n",
    "rscv = RandomizedSearchCV(SVR(gamma=\"scale\"),params,cv=50,iid=False)\n",
    "rscv.fit(Xw,yw)\n",
    "print(\"optimal white C\", rscv.best_estimator_.get_params()[\"C\"])\n",
    "print(\"optimal white epsilon\", rscv.best_estimator_.get_params()[\"epsilon\"])\n",
    "print(\"optimal white kernel\", rscv.best_estimator_.get_params()[\"kernel\"])\n",
    "\n",
    "rscv2 = RandomizedSearchCV(SVR(gamma=\"scale\"),params,cv=50,iid=False)\n",
    "rscv2.fit(Xnw,ynw)\n",
    "print(\"optimal non-white C\", rscv2.best_estimator_.get_params()[\"C\"])\n",
    "print(\"optimal non-white epsilon\", rscv2.best_estimator_.get_params()[\"epsilon\"])\n",
    "print(\"optimal non-white kernel\", rscv2.best_estimator_.get_params()[\"kernel\"])\n"
   ]
  },
  {
   "cell_type": "markdown",
   "metadata": {},
   "source": [
    "# Run Test Data"
   ]
  },
  {
   "cell_type": "code",
   "execution_count": null,
   "metadata": {},
   "outputs": [],
   "source": [
    "Final_model = SVR(kernel='rbf', C=750, gamma=\"scale\", epsilon=1.5)\n",
    "Final_model.fit(Xw, yw)\n",
    "test_predicted = Final_model.predict(Xwt)\n",
    "mse = mean_squared_error(ywt, test_predicted)\n",
    "print(\"Test MSE for White: \",mse)\n",
    "mae = mean_absolute_error(ywt, test_predicted)\n",
    "print(\"Test MAE for White: \",mae)\n",
    "Final_model.fit(Xnw, ynw)\n",
    "test_predicted_2 = Final_model.predict(Xnwt)\n",
    "mse = mean_squared_error(ynwt, test_predicted_2)\n",
    "print(\"Test MSE for Non-White: \",mse)\n",
    "mae = mean_absolute_error(ynwt, test_predicted_2)\n",
    "print(\"Test MAE for Non-White: \",mae)"
   ]
  },
  {
   "cell_type": "markdown",
   "metadata": {},
   "source": [
    "# Try Random Forrest"
   ]
  },
  {
   "cell_type": "code",
   "execution_count": null,
   "metadata": {},
   "outputs": [],
   "source": [
    "model = RandomForestRegressor()\n",
    "model.fit(Xw, yw)\n",
    "cv = cross_val_score(model, Xw, yw, cv=50, scoring=\"neg_mean_squared_error\")\n",
    "print(\"The average MSE for White is\",-sum(cv)/len(cv))\n",
    "model.fit(Xnw, ynw)\n",
    "cv = cross_val_score(model, Xnw, ynw, cv=50, scoring=\"neg_mean_squared_error\")\n",
    "print(\"The average MSE for Non-White is\",-sum(cv)/len(cv))"
   ]
  },
  {
   "cell_type": "markdown",
   "metadata": {},
   "source": [
    "# Tune Random Forrest Hyperparameters"
   ]
  },
  {
   "cell_type": "code",
   "execution_count": null,
   "metadata": {},
   "outputs": [],
   "source": [
    "params = {\"min_samples_split\":[2,5,10,15,20,25,30,35], \"max_features\":[5,10,15,20,25,30]}\n",
    "\n",
    "rscv = RandomizedSearchCV(RandomForestRegressor(n_estimators=500),params,cv=50,iid=False)\n",
    "rscv.fit(Xw,yw)\n",
    "print(\"optimal white min_samples_split\", rscv.best_estimator_.get_params()[\"min_samples_split\"])\n",
    "print(\"optimal white max_features\", rscv.best_estimator_.get_params()[\"max_features\"])\n",
    "\n",
    "rscv2 = RandomizedSearchCV(RandomForestRegressor(n_estimators=500),params,cv=50,iid=False)\n",
    "rscv2.fit(Xnw,ynw)\n",
    "print(\"optimal non-white min_samples_split\", rscv2.best_estimator_.get_params()[\"min_samples_split\"])\n",
    "print(\"optimal non-white max_features\", rscv2.best_estimator_.get_params()[\"max_features\"])"
   ]
  },
  {
   "cell_type": "markdown",
   "metadata": {},
   "source": [
    "# Predict Test Data From Best Model"
   ]
  },
  {
   "cell_type": "code",
   "execution_count": 11,
   "metadata": {},
   "outputs": [
    {
     "name": "stdout",
     "output_type": "stream",
     "text": [
      "Test MSE for White:  30.42083038616415\n",
      "Test MAE for White:  3.29452600039051\n",
      "Test MSE for Non-White:  53.037397932812546\n",
      "Test MAE for Non-White:  4.654058652747073\n"
     ]
    }
   ],
   "source": [
    "Final_model = RandomForestRegressor(n_estimators=500, min_samples_split=32, max_features=25)\n",
    "Final_model.fit(Xw, yw)\n",
    "test_predicted = Final_model.predict(Xwt)\n",
    "mse = mean_squared_error(ywt, test_predicted)\n",
    "print(\"Test MSE for White: \",mse)\n",
    "mae = mean_absolute_error(ywt, test_predicted)\n",
    "print(\"Test MAE for White: \",mae)\n",
    "Final_model.fit(Xnw, ynw)\n",
    "test_predicted_2 = Final_model.predict(Xnwt)\n",
    "mse = mean_squared_error(ynwt, test_predicted_2)\n",
    "print(\"Test MSE for Non-White: \",mse)\n",
    "mae = mean_absolute_error(ynwt, test_predicted_2)\n",
    "print(\"Test MAE for Non-White: \",mae)"
   ]
  },
  {
   "cell_type": "markdown",
   "metadata": {},
   "source": [
    "# Create Bias Metric By County and Block"
   ]
  },
  {
   "cell_type": "code",
   "execution_count": 12,
   "metadata": {},
   "outputs": [],
   "source": [
    "Final_model.fit(Xw, yw)\n",
    "Xw[\"predicted_w\"] = Final_model.predict(Xw)\n",
    "Final_model.fit(Xnw, ynw)\n",
    "Xnw[\"predicted_nw\"] = Final_model.predict(Xnw)\n",
    "Xnw = Xnw[[\"CensusTract\", \"predicted_nw\",\"County_Num_Arrests\"]]\n",
    "Xnw = Xnw.rename(columns={\"County_Num_Arrests\":\"County_Num_Arrests_nw\"})\n",
    "X = pd.merge(left=Xw, right=Xnw,left_on=\"CensusTract\", right_on=\"CensusTract\")\n",
    "X[\"Non-White\"]=1-X[\"White\"]\n",
    "X[\"y\"] = np.log(abs(X[\"predicted_w\"]/X[\"White\"]-X[\"predicted_nw\"]/X[\"Non-White\"]))\n",
    "X = X.replace(np.inf, np.nan)\n",
    "X = X.dropna()\n",
    "X_train = X.sample(frac=0.8,random_state=101)\n",
    "Xt=X.drop(X_train.index)\n",
    "X=X_train\n",
    "y = X[\"y\"]\n",
    "yt=Xt[\"y\"]\n",
    "X = X.drop(columns=['Hispanic','Black','Native','Asian',\"y\"])\n",
    "Xt = Xt.drop(columns=['Hispanic','Black','Native','Asian',\"y\"])\n",
    "yc = np.log(abs(X[\"County_Num_Arrests\"]/X[\"White\"]-X[\"County_Num_Arrests_nw\"]/X[\"Non-White\"]))\n",
    "yct = np.log(abs(Xt[\"County_Num_Arrests\"]/Xt[\"White\"]-Xt[\"County_Num_Arrests_nw\"]/Xt[\"Non-White\"]))"
   ]
  },
  {
   "cell_type": "markdown",
   "metadata": {},
   "source": [
    "# Split Data into Training and Validation"
   ]
  },
  {
   "cell_type": "code",
   "execution_count": 13,
   "metadata": {},
   "outputs": [],
   "source": [
    "X['yb']=y\n",
    "X['yc']=yc\n",
    "Xtrain = X.sample(frac=0.9,random_state=101)\n",
    "Xvalid = X.drop(Xtrain.index)\n",
    "ybtrain = Xtrain['yb']\n",
    "yctrain = Xtrain['yc']\n",
    "ybvalid = Xvalid['yb']\n",
    "ycvalid = Xvalid['yc']\n",
    "X = X.drop(columns=['yb','yc'])"
   ]
  },
  {
   "cell_type": "markdown",
   "metadata": {},
   "source": [
    "# Create Plot of MSE vs Smoothing Factor "
   ]
  },
  {
   "cell_type": "code",
   "execution_count": null,
   "metadata": {},
   "outputs": [],
   "source": [
    "model = Sequential()\n",
    "model.add(Dense(50, input_dim = Xtrain.shape[1], activation = 'relu'))\n",
    "model.add(Dense(1))\n",
    "model.compile(loss='mean_squared_error', optimizer = 'adam')\n",
    "meansqerrors={}\n",
    "for i in range(21):\n",
    "    j = i/20\n",
    "    ystrain = ybtrain-j*(ybtrain-yctrain)\n",
    "    ysvalid = ybvalid-j*(ybvalid-ycvalid)\n",
    "    model.fit(Xtrain, ystrain, epochs = 500, batch_size = 16)\n",
    "    score = model.evaluate(Xvalid, ysvalid)\n",
    "    meansqerrors[j]=score\n",
    "    print(j,score)\n",
    "plt.plot(list(meansqerrors.keys()), list(meansqerrors.values()))"
   ]
  },
  {
   "cell_type": "markdown",
   "metadata": {},
   "source": [
    "# Fit Model to Best Smoothing"
   ]
  },
  {
   "cell_type": "code",
   "execution_count": 21,
   "metadata": {},
   "outputs": [
    {
     "ename": "ValueError",
     "evalue": "Input arrays should have the same number of samples as target arrays. Found 147220 input samples and 9422 target samples.",
     "output_type": "error",
     "traceback": [
      "\u001b[1;31m---------------------------------------------------------------------------\u001b[0m",
      "\u001b[1;31mValueError\u001b[0m                                Traceback (most recent call last)",
      "\u001b[1;32m<ipython-input-21-b9c2988b0c53>\u001b[0m in \u001b[0;36m<module>\u001b[1;34m\u001b[0m\n\u001b[0;32m      5\u001b[0m \u001b[0mmodel\u001b[0m\u001b[1;33m.\u001b[0m\u001b[0madd\u001b[0m\u001b[1;33m(\u001b[0m\u001b[0mDense\u001b[0m\u001b[1;33m(\u001b[0m\u001b[1;36m1\u001b[0m\u001b[1;33m)\u001b[0m\u001b[1;33m)\u001b[0m\u001b[1;33m\u001b[0m\u001b[1;33m\u001b[0m\u001b[0m\n\u001b[0;32m      6\u001b[0m \u001b[0mmodel\u001b[0m\u001b[1;33m.\u001b[0m\u001b[0mcompile\u001b[0m\u001b[1;33m(\u001b[0m\u001b[0mloss\u001b[0m\u001b[1;33m=\u001b[0m\u001b[1;34m'mean_squared_error'\u001b[0m\u001b[1;33m,\u001b[0m \u001b[0moptimizer\u001b[0m \u001b[1;33m=\u001b[0m \u001b[1;34m'adam'\u001b[0m\u001b[1;33m,\u001b[0m \u001b[0mmetrics\u001b[0m\u001b[1;33m=\u001b[0m\u001b[1;33m[\u001b[0m\u001b[1;34m'mean_squared_error'\u001b[0m\u001b[1;33m,\u001b[0m\u001b[1;34m'mean_absolute_error'\u001b[0m\u001b[1;33m]\u001b[0m\u001b[1;33m)\u001b[0m\u001b[1;33m\u001b[0m\u001b[1;33m\u001b[0m\u001b[0m\n\u001b[1;32m----> 7\u001b[1;33m \u001b[0mmodel\u001b[0m\u001b[1;33m.\u001b[0m\u001b[0mfit\u001b[0m\u001b[1;33m(\u001b[0m\u001b[0mX\u001b[0m\u001b[1;33m,\u001b[0m \u001b[0mys\u001b[0m\u001b[1;33m,\u001b[0m \u001b[0mepochs\u001b[0m \u001b[1;33m=\u001b[0m \u001b[1;36m100\u001b[0m\u001b[1;33m,\u001b[0m \u001b[0mbatch_size\u001b[0m \u001b[1;33m=\u001b[0m \u001b[1;36m16\u001b[0m\u001b[1;33m)\u001b[0m\u001b[1;33m\u001b[0m\u001b[1;33m\u001b[0m\u001b[0m\n\u001b[0m",
      "\u001b[1;32m~\\Miniconda3\\lib\\site-packages\\keras\\engine\\training.py\u001b[0m in \u001b[0;36mfit\u001b[1;34m(self, x, y, batch_size, epochs, verbose, callbacks, validation_split, validation_data, shuffle, class_weight, sample_weight, initial_epoch, steps_per_epoch, validation_steps, validation_freq, max_queue_size, workers, use_multiprocessing, **kwargs)\u001b[0m\n\u001b[0;32m   1152\u001b[0m             \u001b[0msample_weight\u001b[0m\u001b[1;33m=\u001b[0m\u001b[0msample_weight\u001b[0m\u001b[1;33m,\u001b[0m\u001b[1;33m\u001b[0m\u001b[1;33m\u001b[0m\u001b[0m\n\u001b[0;32m   1153\u001b[0m             \u001b[0mclass_weight\u001b[0m\u001b[1;33m=\u001b[0m\u001b[0mclass_weight\u001b[0m\u001b[1;33m,\u001b[0m\u001b[1;33m\u001b[0m\u001b[1;33m\u001b[0m\u001b[0m\n\u001b[1;32m-> 1154\u001b[1;33m             batch_size=batch_size)\n\u001b[0m\u001b[0;32m   1155\u001b[0m \u001b[1;33m\u001b[0m\u001b[0m\n\u001b[0;32m   1156\u001b[0m         \u001b[1;31m# Prepare validation data.\u001b[0m\u001b[1;33m\u001b[0m\u001b[1;33m\u001b[0m\u001b[1;33m\u001b[0m\u001b[0m\n",
      "\u001b[1;32m~\\Miniconda3\\lib\\site-packages\\keras\\engine\\training.py\u001b[0m in \u001b[0;36m_standardize_user_data\u001b[1;34m(self, x, y, sample_weight, class_weight, check_array_lengths, batch_size)\u001b[0m\n\u001b[0;32m    635\u001b[0m             \u001b[1;31m# Check that all arrays have the same length.\u001b[0m\u001b[1;33m\u001b[0m\u001b[1;33m\u001b[0m\u001b[1;33m\u001b[0m\u001b[0m\n\u001b[0;32m    636\u001b[0m             \u001b[1;32mif\u001b[0m \u001b[0mcheck_array_lengths\u001b[0m\u001b[1;33m:\u001b[0m\u001b[1;33m\u001b[0m\u001b[1;33m\u001b[0m\u001b[0m\n\u001b[1;32m--> 637\u001b[1;33m                 \u001b[0mtraining_utils\u001b[0m\u001b[1;33m.\u001b[0m\u001b[0mcheck_array_length_consistency\u001b[0m\u001b[1;33m(\u001b[0m\u001b[0mx\u001b[0m\u001b[1;33m,\u001b[0m \u001b[0my\u001b[0m\u001b[1;33m,\u001b[0m \u001b[0msample_weights\u001b[0m\u001b[1;33m)\u001b[0m\u001b[1;33m\u001b[0m\u001b[1;33m\u001b[0m\u001b[0m\n\u001b[0m\u001b[0;32m    638\u001b[0m             \u001b[1;32mif\u001b[0m \u001b[0mself\u001b[0m\u001b[1;33m.\u001b[0m\u001b[0m_is_graph_network\u001b[0m\u001b[1;33m:\u001b[0m\u001b[1;33m\u001b[0m\u001b[1;33m\u001b[0m\u001b[0m\n\u001b[0;32m    639\u001b[0m                 \u001b[1;31m# Additional checks to avoid users mistakenly\u001b[0m\u001b[1;33m\u001b[0m\u001b[1;33m\u001b[0m\u001b[1;33m\u001b[0m\u001b[0m\n",
      "\u001b[1;32m~\\Miniconda3\\lib\\site-packages\\keras\\engine\\training_utils.py\u001b[0m in \u001b[0;36mcheck_array_length_consistency\u001b[1;34m(inputs, targets, weights)\u001b[0m\n\u001b[0;32m    242\u001b[0m                          \u001b[1;34m'the same number of samples as target arrays. '\u001b[0m\u001b[1;33m\u001b[0m\u001b[1;33m\u001b[0m\u001b[0m\n\u001b[0;32m    243\u001b[0m                          \u001b[1;34m'Found '\u001b[0m \u001b[1;33m+\u001b[0m \u001b[0mstr\u001b[0m\u001b[1;33m(\u001b[0m\u001b[0mlist\u001b[0m\u001b[1;33m(\u001b[0m\u001b[0mset_x\u001b[0m\u001b[1;33m)\u001b[0m\u001b[1;33m[\u001b[0m\u001b[1;36m0\u001b[0m\u001b[1;33m]\u001b[0m\u001b[1;33m)\u001b[0m \u001b[1;33m+\u001b[0m \u001b[1;34m' input samples '\u001b[0m\u001b[1;33m\u001b[0m\u001b[1;33m\u001b[0m\u001b[0m\n\u001b[1;32m--> 244\u001b[1;33m                          'and ' + str(list(set_y)[0]) + ' target samples.')\n\u001b[0m\u001b[0;32m    245\u001b[0m     \u001b[1;32mif\u001b[0m \u001b[0mlen\u001b[0m\u001b[1;33m(\u001b[0m\u001b[0mset_w\u001b[0m\u001b[1;33m)\u001b[0m \u001b[1;33m>\u001b[0m \u001b[1;36m1\u001b[0m\u001b[1;33m:\u001b[0m\u001b[1;33m\u001b[0m\u001b[1;33m\u001b[0m\u001b[0m\n\u001b[0;32m    246\u001b[0m         raise ValueError('All sample_weight arrays should have '\n",
      "\u001b[1;31mValueError\u001b[0m: Input arrays should have the same number of samples as target arrays. Found 147220 input samples and 9422 target samples."
     ]
    }
   ],
   "source": [
    "ys = y-.15*(y-yc)\n",
    "yst = yt-.15*(yt-yct)\n",
    "model = Sequential()\n",
    "model.add(Dense(50, input_dim = X.shape[1], activation = 'relu'))\n",
    "model.add(Dense(1))\n",
    "model.compile(loss='mean_squared_error', optimizer = 'adam', metrics=['mean_squared_error','mean_absolute_error'])\n",
    "model.fit(X, ys, epochs = 1000, batch_size = 16)"
   ]
  },
  {
   "cell_type": "markdown",
   "metadata": {},
   "source": [
    "# Predict Bias of Smoothed Test Sets"
   ]
  },
  {
   "cell_type": "code",
   "execution_count": 15,
   "metadata": {},
   "outputs": [
    {
     "name": "stdout",
     "output_type": "stream",
     "text": [
      "2355/2355 [==============================] - 0s 31us/step\n",
      "MSE: 1538467200.0, MAE: 39222.18359375\n"
     ]
    }
   ],
   "source": [
    "_, MSE, MAE = model.evaluate(Xt, yst)\n",
    "print('MSE: ' + str(MSE) + ', MAE: '+ str(MAE))"
   ]
  },
  {
   "cell_type": "markdown",
   "metadata": {},
   "source": [
    "# Create Dataset to Visualize Smoothing"
   ]
  },
  {
   "cell_type": "code",
   "execution_count": 17,
   "metadata": {},
   "outputs": [
    {
     "data": {
      "text/html": [
       "<div>\n",
       "<style scoped>\n",
       "    .dataframe tbody tr th:only-of-type {\n",
       "        vertical-align: middle;\n",
       "    }\n",
       "\n",
       "    .dataframe tbody tr th {\n",
       "        vertical-align: top;\n",
       "    }\n",
       "\n",
       "    .dataframe thead th {\n",
       "        text-align: right;\n",
       "    }\n",
       "</style>\n",
       "<table border=\"1\" class=\"dataframe\">\n",
       "  <thead>\n",
       "    <tr style=\"text-align: right;\">\n",
       "      <th></th>\n",
       "      <th>y</th>\n",
       "      <th>yc</th>\n",
       "      <th>ys</th>\n",
       "      <th>Latitude</th>\n",
       "      <th>Longitude</th>\n",
       "    </tr>\n",
       "  </thead>\n",
       "  <tbody>\n",
       "    <tr>\n",
       "      <th>0</th>\n",
       "      <td>2.027677</td>\n",
       "      <td>1.534278</td>\n",
       "      <td>1.953667</td>\n",
       "      <td>40.841809</td>\n",
       "      <td>-73.874774</td>\n",
       "    </tr>\n",
       "    <tr>\n",
       "      <th>1</th>\n",
       "      <td>2.027677</td>\n",
       "      <td>1.534278</td>\n",
       "      <td>1.953667</td>\n",
       "      <td>40.844070</td>\n",
       "      <td>-73.874774</td>\n",
       "    </tr>\n",
       "    <tr>\n",
       "      <th>2</th>\n",
       "      <td>2.027677</td>\n",
       "      <td>1.534278</td>\n",
       "      <td>1.953667</td>\n",
       "      <td>40.846332</td>\n",
       "      <td>-73.877940</td>\n",
       "    </tr>\n",
       "    <tr>\n",
       "      <th>3</th>\n",
       "      <td>2.027677</td>\n",
       "      <td>1.534278</td>\n",
       "      <td>1.953667</td>\n",
       "      <td>40.846332</td>\n",
       "      <td>-73.874774</td>\n",
       "    </tr>\n",
       "    <tr>\n",
       "      <th>4</th>\n",
       "      <td>2.027677</td>\n",
       "      <td>1.534278</td>\n",
       "      <td>1.953667</td>\n",
       "      <td>40.846332</td>\n",
       "      <td>-73.871608</td>\n",
       "    </tr>\n",
       "    <tr>\n",
       "      <th>...</th>\n",
       "      <td>...</td>\n",
       "      <td>...</td>\n",
       "      <td>...</td>\n",
       "      <td>...</td>\n",
       "      <td>...</td>\n",
       "    </tr>\n",
       "    <tr>\n",
       "      <th>147215</th>\n",
       "      <td>2.060717</td>\n",
       "      <td>1.671769</td>\n",
       "      <td>2.002374</td>\n",
       "      <td>40.645075</td>\n",
       "      <td>-73.890603</td>\n",
       "    </tr>\n",
       "    <tr>\n",
       "      <th>147216</th>\n",
       "      <td>2.060717</td>\n",
       "      <td>1.671769</td>\n",
       "      <td>2.002374</td>\n",
       "      <td>40.647337</td>\n",
       "      <td>-73.893769</td>\n",
       "    </tr>\n",
       "    <tr>\n",
       "      <th>147217</th>\n",
       "      <td>1.690081</td>\n",
       "      <td>1.787641</td>\n",
       "      <td>1.704715</td>\n",
       "      <td>40.708392</td>\n",
       "      <td>-73.833618</td>\n",
       "    </tr>\n",
       "    <tr>\n",
       "      <th>147218</th>\n",
       "      <td>1.690081</td>\n",
       "      <td>1.787641</td>\n",
       "      <td>1.704715</td>\n",
       "      <td>40.710653</td>\n",
       "      <td>-73.830452</td>\n",
       "    </tr>\n",
       "    <tr>\n",
       "      <th>147219</th>\n",
       "      <td>2.810122</td>\n",
       "      <td>3.020129</td>\n",
       "      <td>2.841623</td>\n",
       "      <td>40.667688</td>\n",
       "      <td>-73.950754</td>\n",
       "    </tr>\n",
       "  </tbody>\n",
       "</table>\n",
       "<p>147220 rows × 5 columns</p>\n",
       "</div>"
      ],
      "text/plain": [
       "               y        yc        ys   Latitude  Longitude\n",
       "0       2.027677  1.534278  1.953667  40.841809 -73.874774\n",
       "1       2.027677  1.534278  1.953667  40.844070 -73.874774\n",
       "2       2.027677  1.534278  1.953667  40.846332 -73.877940\n",
       "3       2.027677  1.534278  1.953667  40.846332 -73.874774\n",
       "4       2.027677  1.534278  1.953667  40.846332 -73.871608\n",
       "...          ...       ...       ...        ...        ...\n",
       "147215  2.060717  1.671769  2.002374  40.645075 -73.890603\n",
       "147216  2.060717  1.671769  2.002374  40.647337 -73.893769\n",
       "147217  1.690081  1.787641  1.704715  40.708392 -73.833618\n",
       "147218  1.690081  1.787641  1.704715  40.710653 -73.830452\n",
       "147219  2.810122  3.020129  2.841623  40.667688 -73.950754\n",
       "\n",
       "[147220 rows x 5 columns]"
      ]
     },
     "execution_count": 17,
     "metadata": {},
     "output_type": "execute_result"
    }
   ],
   "source": [
    "block_data = pd.read_csv(\"census_block_loc.csv\")\n",
    "tracts = block_data[\"BlockCode\"]\n",
    "tracts = [int(str(tract)[:-4]) for tract in tracts]\n",
    "block_data[\"tracts\"]=tracts\n",
    "X['y']=y\n",
    "X['ys']=ys\n",
    "X['yc']=yc\n",
    "X = X[['CensusTract','y','yc','ys']]\n",
    "X = pd.merge(left=X, right=block_data, left_on=\"CensusTract\", right_on=\"tracts\")\n",
    "X = X.drop(columns=[\"BlockCode\",\"County\",\"State\",\"CensusTract\",\"tracts\"])\n",
    "X"
   ]
  },
  {
   "cell_type": "markdown",
   "metadata": {},
   "source": [
    "# Visualize Smoothing"
   ]
  },
  {
   "cell_type": "code",
   "execution_count": 20,
   "metadata": {},
   "outputs": [
    {
     "ename": "KeyError",
     "evalue": "\"None of [Float64Index([ 2.027677163774925, 0.9892769477723248,  4.359893517110903,\\n               4.458232498698264,  2.637341987318661, 2.2756506834254377,\\n              1.8136767272179204, 2.6642757840953215,  1.121095969412219,\\n                2.42066155797262,\\n              ...\\n              2.5730804656450115,   1.34178293549974,  2.160701512984222,\\n               2.810122293433018, 0.5486465799029026,  1.679176645074903,\\n              1.5595527330693881,  1.957354110702632,  3.346744065529153,\\n               2.421123010902844],\\n             dtype='float64', length=9422)] are in the [columns]\"",
     "output_type": "error",
     "traceback": [
      "\u001b[1;31m---------------------------------------------------------------------------\u001b[0m",
      "\u001b[1;31mKeyError\u001b[0m                                  Traceback (most recent call last)",
      "\u001b[1;32m<ipython-input-20-aa17d1741a93>\u001b[0m in \u001b[0;36m<module>\u001b[1;34m\u001b[0m\n\u001b[0;32m      6\u001b[0m \u001b[0mcoords\u001b[0m \u001b[1;33m=\u001b[0m \u001b[1;33m(\u001b[0m\u001b[1;36m40.75\u001b[0m\u001b[1;33m,\u001b[0m \u001b[1;33m-\u001b[0m\u001b[1;36m74.00\u001b[0m\u001b[1;33m)\u001b[0m\u001b[1;33m\u001b[0m\u001b[1;33m\u001b[0m\u001b[0m\n\u001b[0;32m      7\u001b[0m \u001b[0mfig\u001b[0m \u001b[1;33m=\u001b[0m \u001b[0mgmaps\u001b[0m\u001b[1;33m.\u001b[0m\u001b[0mfigure\u001b[0m\u001b[1;33m(\u001b[0m\u001b[0mcenter\u001b[0m \u001b[1;33m=\u001b[0m \u001b[0mcoords\u001b[0m\u001b[1;33m,\u001b[0m \u001b[0mzoom_level\u001b[0m \u001b[1;33m=\u001b[0m \u001b[1;36m12\u001b[0m\u001b[1;33m)\u001b[0m\u001b[1;33m\u001b[0m\u001b[1;33m\u001b[0m\u001b[0m\n\u001b[1;32m----> 8\u001b[1;33m \u001b[0mfig\u001b[0m\u001b[1;33m.\u001b[0m\u001b[0madd_layer\u001b[0m\u001b[1;33m(\u001b[0m\u001b[0mgmaps\u001b[0m\u001b[1;33m.\u001b[0m\u001b[0mheatmap_layer\u001b[0m\u001b[1;33m(\u001b[0m\u001b[0mX\u001b[0m\u001b[1;33m[\u001b[0m\u001b[1;33m[\u001b[0m\u001b[1;34m'Latitude'\u001b[0m\u001b[1;33m,\u001b[0m\u001b[1;34m'Longitude'\u001b[0m\u001b[1;33m]\u001b[0m\u001b[1;33m]\u001b[0m\u001b[1;33m,\u001b[0m \u001b[0mweights\u001b[0m\u001b[1;33m=\u001b[0m\u001b[0mX\u001b[0m\u001b[1;33m[\u001b[0m\u001b[0my\u001b[0m\u001b[1;33m]\u001b[0m\u001b[1;33m)\u001b[0m\u001b[1;33m)\u001b[0m\u001b[1;33m\u001b[0m\u001b[1;33m\u001b[0m\u001b[0m\n\u001b[0m\u001b[0;32m      9\u001b[0m \u001b[0mfig\u001b[0m\u001b[1;33m\u001b[0m\u001b[1;33m\u001b[0m\u001b[0m\n",
      "\u001b[1;32m~\\Miniconda3\\lib\\site-packages\\pandas\\core\\frame.py\u001b[0m in \u001b[0;36m__getitem__\u001b[1;34m(self, key)\u001b[0m\n\u001b[0;32m   2999\u001b[0m             \u001b[1;32mif\u001b[0m \u001b[0mis_iterator\u001b[0m\u001b[1;33m(\u001b[0m\u001b[0mkey\u001b[0m\u001b[1;33m)\u001b[0m\u001b[1;33m:\u001b[0m\u001b[1;33m\u001b[0m\u001b[1;33m\u001b[0m\u001b[0m\n\u001b[0;32m   3000\u001b[0m                 \u001b[0mkey\u001b[0m \u001b[1;33m=\u001b[0m \u001b[0mlist\u001b[0m\u001b[1;33m(\u001b[0m\u001b[0mkey\u001b[0m\u001b[1;33m)\u001b[0m\u001b[1;33m\u001b[0m\u001b[1;33m\u001b[0m\u001b[0m\n\u001b[1;32m-> 3001\u001b[1;33m             \u001b[0mindexer\u001b[0m \u001b[1;33m=\u001b[0m \u001b[0mself\u001b[0m\u001b[1;33m.\u001b[0m\u001b[0mloc\u001b[0m\u001b[1;33m.\u001b[0m\u001b[0m_convert_to_indexer\u001b[0m\u001b[1;33m(\u001b[0m\u001b[0mkey\u001b[0m\u001b[1;33m,\u001b[0m \u001b[0maxis\u001b[0m\u001b[1;33m=\u001b[0m\u001b[1;36m1\u001b[0m\u001b[1;33m,\u001b[0m \u001b[0mraise_missing\u001b[0m\u001b[1;33m=\u001b[0m\u001b[1;32mTrue\u001b[0m\u001b[1;33m)\u001b[0m\u001b[1;33m\u001b[0m\u001b[1;33m\u001b[0m\u001b[0m\n\u001b[0m\u001b[0;32m   3002\u001b[0m \u001b[1;33m\u001b[0m\u001b[0m\n\u001b[0;32m   3003\u001b[0m         \u001b[1;31m# take() does not accept boolean indexers\u001b[0m\u001b[1;33m\u001b[0m\u001b[1;33m\u001b[0m\u001b[1;33m\u001b[0m\u001b[0m\n",
      "\u001b[1;32m~\\Miniconda3\\lib\\site-packages\\pandas\\core\\indexing.py\u001b[0m in \u001b[0;36m_convert_to_indexer\u001b[1;34m(self, obj, axis, is_setter, raise_missing)\u001b[0m\n\u001b[0;32m   1283\u001b[0m                 \u001b[1;31m# When setting, missing keys are not allowed, even with .loc:\u001b[0m\u001b[1;33m\u001b[0m\u001b[1;33m\u001b[0m\u001b[1;33m\u001b[0m\u001b[0m\n\u001b[0;32m   1284\u001b[0m                 \u001b[0mkwargs\u001b[0m \u001b[1;33m=\u001b[0m \u001b[1;33m{\u001b[0m\u001b[1;34m\"raise_missing\"\u001b[0m\u001b[1;33m:\u001b[0m \u001b[1;32mTrue\u001b[0m \u001b[1;32mif\u001b[0m \u001b[0mis_setter\u001b[0m \u001b[1;32melse\u001b[0m \u001b[0mraise_missing\u001b[0m\u001b[1;33m}\u001b[0m\u001b[1;33m\u001b[0m\u001b[1;33m\u001b[0m\u001b[0m\n\u001b[1;32m-> 1285\u001b[1;33m                 \u001b[1;32mreturn\u001b[0m \u001b[0mself\u001b[0m\u001b[1;33m.\u001b[0m\u001b[0m_get_listlike_indexer\u001b[0m\u001b[1;33m(\u001b[0m\u001b[0mobj\u001b[0m\u001b[1;33m,\u001b[0m \u001b[0maxis\u001b[0m\u001b[1;33m,\u001b[0m \u001b[1;33m**\u001b[0m\u001b[0mkwargs\u001b[0m\u001b[1;33m)\u001b[0m\u001b[1;33m[\u001b[0m\u001b[1;36m1\u001b[0m\u001b[1;33m]\u001b[0m\u001b[1;33m\u001b[0m\u001b[1;33m\u001b[0m\u001b[0m\n\u001b[0m\u001b[0;32m   1286\u001b[0m         \u001b[1;32melse\u001b[0m\u001b[1;33m:\u001b[0m\u001b[1;33m\u001b[0m\u001b[1;33m\u001b[0m\u001b[0m\n\u001b[0;32m   1287\u001b[0m             \u001b[1;32mtry\u001b[0m\u001b[1;33m:\u001b[0m\u001b[1;33m\u001b[0m\u001b[1;33m\u001b[0m\u001b[0m\n",
      "\u001b[1;32m~\\Miniconda3\\lib\\site-packages\\pandas\\core\\indexing.py\u001b[0m in \u001b[0;36m_get_listlike_indexer\u001b[1;34m(self, key, axis, raise_missing)\u001b[0m\n\u001b[0;32m   1090\u001b[0m \u001b[1;33m\u001b[0m\u001b[0m\n\u001b[0;32m   1091\u001b[0m         self._validate_read_indexer(\n\u001b[1;32m-> 1092\u001b[1;33m             \u001b[0mkeyarr\u001b[0m\u001b[1;33m,\u001b[0m \u001b[0mindexer\u001b[0m\u001b[1;33m,\u001b[0m \u001b[0mo\u001b[0m\u001b[1;33m.\u001b[0m\u001b[0m_get_axis_number\u001b[0m\u001b[1;33m(\u001b[0m\u001b[0maxis\u001b[0m\u001b[1;33m)\u001b[0m\u001b[1;33m,\u001b[0m \u001b[0mraise_missing\u001b[0m\u001b[1;33m=\u001b[0m\u001b[0mraise_missing\u001b[0m\u001b[1;33m\u001b[0m\u001b[1;33m\u001b[0m\u001b[0m\n\u001b[0m\u001b[0;32m   1093\u001b[0m         )\n\u001b[0;32m   1094\u001b[0m         \u001b[1;32mreturn\u001b[0m \u001b[0mkeyarr\u001b[0m\u001b[1;33m,\u001b[0m \u001b[0mindexer\u001b[0m\u001b[1;33m\u001b[0m\u001b[1;33m\u001b[0m\u001b[0m\n",
      "\u001b[1;32m~\\Miniconda3\\lib\\site-packages\\pandas\\core\\indexing.py\u001b[0m in \u001b[0;36m_validate_read_indexer\u001b[1;34m(self, key, indexer, axis, raise_missing)\u001b[0m\n\u001b[0;32m   1175\u001b[0m                 raise KeyError(\n\u001b[0;32m   1176\u001b[0m                     \"None of [{key}] are in the [{axis}]\".format(\n\u001b[1;32m-> 1177\u001b[1;33m                         \u001b[0mkey\u001b[0m\u001b[1;33m=\u001b[0m\u001b[0mkey\u001b[0m\u001b[1;33m,\u001b[0m \u001b[0maxis\u001b[0m\u001b[1;33m=\u001b[0m\u001b[0mself\u001b[0m\u001b[1;33m.\u001b[0m\u001b[0mobj\u001b[0m\u001b[1;33m.\u001b[0m\u001b[0m_get_axis_name\u001b[0m\u001b[1;33m(\u001b[0m\u001b[0maxis\u001b[0m\u001b[1;33m)\u001b[0m\u001b[1;33m\u001b[0m\u001b[1;33m\u001b[0m\u001b[0m\n\u001b[0m\u001b[0;32m   1178\u001b[0m                     )\n\u001b[0;32m   1179\u001b[0m                 )\n",
      "\u001b[1;31mKeyError\u001b[0m: \"None of [Float64Index([ 2.027677163774925, 0.9892769477723248,  4.359893517110903,\\n               4.458232498698264,  2.637341987318661, 2.2756506834254377,\\n              1.8136767272179204, 2.6642757840953215,  1.121095969412219,\\n                2.42066155797262,\\n              ...\\n              2.5730804656450115,   1.34178293549974,  2.160701512984222,\\n               2.810122293433018, 0.5486465799029026,  1.679176645074903,\\n              1.5595527330693881,  1.957354110702632,  3.346744065529153,\\n               2.421123010902844],\\n             dtype='float64', length=9422)] are in the [columns]\""
     ]
    }
   ],
   "source": [
    "#put in visuals here from the dataset \"block_data\"\n",
    "#real data will be replaced when Erik figures out the proper way to do the smoothing\n",
    "\n",
    "import gmaps\n",
    "\n",
    "locations = sample[['latitude','longitude']]\n",
    "weights = sample['weight']\n",
    "\n",
    "coords = (40.75, -74.00)\n",
    "fig = gmaps.figure(center = coords, zoom_level = 12)\n",
    "fig.add_layer(gmaps.heatmap_layer(locations, weights=weights))\n",
    "fig"
   ]
  }
 ],
 "metadata": {
  "kernelspec": {
   "display_name": "Python 3",
   "language": "python",
   "name": "python3"
  },
  "language_info": {
   "codemirror_mode": {
    "name": "ipython",
    "version": 3
   },
   "file_extension": ".py",
   "mimetype": "text/x-python",
   "name": "python",
   "nbconvert_exporter": "python",
   "pygments_lexer": "ipython3",
   "version": "3.7.4"
  }
 },
 "nbformat": 4,
 "nbformat_minor": 2
}
